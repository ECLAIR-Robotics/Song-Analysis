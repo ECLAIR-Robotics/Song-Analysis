{
 "cells": [
  {
   "cell_type": "markdown",
   "id": "d303679b-0163-4a62-8dd4-3876e42d02e5",
   "metadata": {},
   "source": [
    "# Demo Word2Vec"
   ]
  },
  {
   "cell_type": "markdown",
   "id": "24be4af0-dee4-45b8-b4e8-b51272d138c6",
   "metadata": {},
   "source": [
    "Using FastText for optimal word vectorization as opposed to one hot encoding."
   ]
  },
  {
   "cell_type": "markdown",
   "id": "34c4e72c-57cb-4d4d-af2e-dc8831a29f48",
   "metadata": {},
   "source": [
    "## Load Vectorizer"
   ]
  },
  {
   "cell_type": "code",
   "execution_count": 1,
   "id": "0a9b5ec0-9992-4e64-b022-92c5aa0096d9",
   "metadata": {},
   "outputs": [],
   "source": [
    "VOCAB_SIZE = 100000\n",
    "UNK = VOCAB_SIZE\n",
    "PAD = VOCAB_SIZE + 1"
   ]
  },
  {
   "cell_type": "code",
   "execution_count": 2,
   "id": "74da2766-d7a3-4ea7-a458-e93f98ad129c",
   "metadata": {},
   "outputs": [],
   "source": [
    "def _count_generator(reader):\n",
    "    b = reader(1024 * 1024)\n",
    "    while b:\n",
    "        yield b\n",
    "        b = reader(1024 * 1024)\n",
    "\n",
    "def num_lines(path):\n",
    "    with open(path, 'rb') as fp:\n",
    "        c_generator = _count_generator(fp.raw.read)\n",
    "        # count each \\n\n",
    "        count = sum(buffer.count(b'\\n') for buffer in c_generator)\n",
    "        return count + 1\n",
    "\n",
    "# Code from https://fasttext.cc/docs/en/english-vectors.html\n",
    "# Modified to use a limited vocabulary size and have a progress bar\n",
    "import io\n",
    "from tqdm import tqdm as tqdm\n",
    "import numpy as np\n",
    "\n",
    "def load_vectors(fname):\n",
    "    # lines = num_lines(fname)\n",
    "    fin = io.open(fname, 'r', encoding='utf-8', newline='\\n', errors='ignore')\n",
    "    n, d = map(int, fin.readline().split())\n",
    "    data = {}\n",
    "    # for line in tqdm(fin, total=lines):\n",
    "    for idx, line in tqdm(enumerate(fin), total=VOCAB_SIZE):\n",
    "        if idx >= VOCAB_SIZE:\n",
    "            break\n",
    "        tokens = line.rstrip().split(' ')\n",
    "        data[tokens[0]] = np.array(list(map(float, tokens[1:])) + [0, 0])\n",
    "    return data"
   ]
  },
  {
   "cell_type": "code",
   "execution_count": 3,
   "id": "f8b1d99d-429c-4f3a-a6bc-b87190ebd886",
   "metadata": {},
   "outputs": [
    {
     "name": "stderr",
     "output_type": "stream",
     "text": [
      "100%|██████████████████████████████████████████████████████████████████████████████████████████████████████████████████████████████████████████████████████████████████████| 100000/100000 [00:03<00:00, 29005.85it/s]\n"
     ]
    }
   ],
   "source": [
    "vectorizer = load_vectors('wiki-news-300d-1M-subword-fasttext/wiki-news-300d-1M-subword.vec')"
   ]
  },
  {
   "cell_type": "code",
   "execution_count": 4,
   "id": "e0bdb46d-ebc0-4590-a393-8b663a4a3496",
   "metadata": {},
   "outputs": [],
   "source": [
    "def vectorize(word) -> np.ndarray:\n",
    "    if word == '':  # If this is a pad token\n",
    "        return np.array([0] * 301 + [1], dtype=np.float64)\n",
    "    if word in vectorizer:  # If this word is in our vocabulary\n",
    "        return vectorizer[word]\n",
    "    return np.array([0] * 300 + [1, 0], dtype=np.float64)  # Unknown token"
   ]
  },
  {
   "cell_type": "markdown",
   "id": "a8a117e1-ad7e-4eb9-97fc-bcc28667faf5",
   "metadata": {},
   "source": [
    "## Load Data/Preprocess"
   ]
  },
  {
   "cell_type": "code",
   "execution_count": 5,
   "id": "1c51f60f-4a14-4943-bd59-e236541ac586",
   "metadata": {},
   "outputs": [
    {
     "data": {
      "text/html": [
       "<div>\n",
       "<style scoped>\n",
       "    .dataframe tbody tr th:only-of-type {\n",
       "        vertical-align: middle;\n",
       "    }\n",
       "\n",
       "    .dataframe tbody tr th {\n",
       "        vertical-align: top;\n",
       "    }\n",
       "\n",
       "    .dataframe thead th {\n",
       "        text-align: right;\n",
       "    }\n",
       "</style>\n",
       "<table border=\"1\" class=\"dataframe\">\n",
       "  <thead>\n",
       "    <tr style=\"text-align: right;\">\n",
       "      <th></th>\n",
       "      <th>Unnamed: 0</th>\n",
       "      <th>lastfm_url</th>\n",
       "      <th>track</th>\n",
       "      <th>artist</th>\n",
       "      <th>seeds</th>\n",
       "      <th>number_of_emotion_tags</th>\n",
       "      <th>valence_tags</th>\n",
       "      <th>arousal_tags</th>\n",
       "      <th>dominance_tags</th>\n",
       "      <th>mbid</th>\n",
       "      <th>spotify_id</th>\n",
       "      <th>genre</th>\n",
       "      <th>Lyric</th>\n",
       "      <th>language</th>\n",
       "    </tr>\n",
       "  </thead>\n",
       "  <tbody>\n",
       "    <tr>\n",
       "      <th>0</th>\n",
       "      <td>1</td>\n",
       "      <td>https://www.last.fm/music/metallica/_/st.%2banger</td>\n",
       "      <td>St. Anger</td>\n",
       "      <td>Metallica</td>\n",
       "      <td>['aggressive']</td>\n",
       "      <td>8</td>\n",
       "      <td>3.710000</td>\n",
       "      <td>5.833000</td>\n",
       "      <td>5.427250</td>\n",
       "      <td>727a2529-7ee8-4860-aef6-7959884895cb</td>\n",
       "      <td>3fOc9x06lKJBhz435mInlH</td>\n",
       "      <td>metal</td>\n",
       "      <td>Saint Anger 'round my neck\\nSaint Anger 'round...</td>\n",
       "      <td>en</td>\n",
       "    </tr>\n",
       "    <tr>\n",
       "      <th>1</th>\n",
       "      <td>3</td>\n",
       "      <td>https://www.last.fm/music/m.i.a./_/bamboo%2bbanga</td>\n",
       "      <td>Bamboo Banga</td>\n",
       "      <td>M.I.A.</td>\n",
       "      <td>['aggressive', 'fun', 'sexy', 'energetic']</td>\n",
       "      <td>13</td>\n",
       "      <td>6.555071</td>\n",
       "      <td>5.537214</td>\n",
       "      <td>5.691357</td>\n",
       "      <td>99dd2c8c-e7c1-413e-8ea4-4497a00ffa18</td>\n",
       "      <td>6tqFC1DIOphJkCwrjVzPmg</td>\n",
       "      <td>hip-hop</td>\n",
       "      <td>Road runner, road runner\\nGoing hundred mile p...</td>\n",
       "      <td>en</td>\n",
       "    </tr>\n",
       "    <tr>\n",
       "      <th>2</th>\n",
       "      <td>5</td>\n",
       "      <td>https://www.last.fm/music/drowning%2bpool/_/st...</td>\n",
       "      <td>Step Up</td>\n",
       "      <td>Drowning Pool</td>\n",
       "      <td>['aggressive']</td>\n",
       "      <td>9</td>\n",
       "      <td>2.971389</td>\n",
       "      <td>5.537500</td>\n",
       "      <td>4.726389</td>\n",
       "      <td>49e7b4d2-3772-4301-ba25-3cc46ceb342e</td>\n",
       "      <td>4Q1w4Ryyi8KNxxaFlOQClK</td>\n",
       "      <td>metal</td>\n",
       "      <td>Come!\\n\\nIf our own lives aren’t directly affe...</td>\n",
       "      <td>en</td>\n",
       "    </tr>\n",
       "    <tr>\n",
       "      <th>3</th>\n",
       "      <td>11</td>\n",
       "      <td>https://www.last.fm/music/kanye%2bwest/_/feedback</td>\n",
       "      <td>Feedback</td>\n",
       "      <td>Kanye West</td>\n",
       "      <td>['aggressive']</td>\n",
       "      <td>1</td>\n",
       "      <td>3.080000</td>\n",
       "      <td>5.870000</td>\n",
       "      <td>5.490000</td>\n",
       "      <td>NaN</td>\n",
       "      <td>49fT6owWuknekShh9utsjv</td>\n",
       "      <td>hip-hop</td>\n",
       "      <td>Ayy, y'all heard about the good news?\\nY'all s...</td>\n",
       "      <td>en</td>\n",
       "    </tr>\n",
       "    <tr>\n",
       "      <th>4</th>\n",
       "      <td>13</td>\n",
       "      <td>https://www.last.fm/music/deftones/_/7%2bwords</td>\n",
       "      <td>7 Words</td>\n",
       "      <td>Deftones</td>\n",
       "      <td>['aggressive', 'angry']</td>\n",
       "      <td>10</td>\n",
       "      <td>3.807121</td>\n",
       "      <td>5.473939</td>\n",
       "      <td>4.729091</td>\n",
       "      <td>1a826083-5585-445f-a708-415dc90aa050</td>\n",
       "      <td>6DoXuH326aAYEN8CnlLmhP</td>\n",
       "      <td>nu metal</td>\n",
       "      <td>I'll never be the same, breaking decency\\nDon'...</td>\n",
       "      <td>en</td>\n",
       "    </tr>\n",
       "    <tr>\n",
       "      <th>...</th>\n",
       "      <td>...</td>\n",
       "      <td>...</td>\n",
       "      <td>...</td>\n",
       "      <td>...</td>\n",
       "      <td>...</td>\n",
       "      <td>...</td>\n",
       "      <td>...</td>\n",
       "      <td>...</td>\n",
       "      <td>...</td>\n",
       "      <td>...</td>\n",
       "      <td>...</td>\n",
       "      <td>...</td>\n",
       "      <td>...</td>\n",
       "      <td>...</td>\n",
       "    </tr>\n",
       "    <tr>\n",
       "      <th>16792</th>\n",
       "      <td>229432</td>\n",
       "      <td>https://www.last.fm/music/noblegases/_/xenon</td>\n",
       "      <td>Xenon</td>\n",
       "      <td>NobleGases</td>\n",
       "      <td>['noble']</td>\n",
       "      <td>2</td>\n",
       "      <td>6.160000</td>\n",
       "      <td>3.695000</td>\n",
       "      <td>6.130000</td>\n",
       "      <td>NaN</td>\n",
       "      <td>1AePjgLLtzF0abbfcgYdLI</td>\n",
       "      <td>chill</td>\n",
       "      <td>You're floating out astray\\nThis cold and life...</td>\n",
       "      <td>en</td>\n",
       "    </tr>\n",
       "    <tr>\n",
       "      <th>16793</th>\n",
       "      <td>229435</td>\n",
       "      <td>https://www.last.fm/music/kurt%2bvile/_/wild%2...</td>\n",
       "      <td>Wild Imagination</td>\n",
       "      <td>Kurt Vile</td>\n",
       "      <td>['transparent']</td>\n",
       "      <td>2</td>\n",
       "      <td>6.925000</td>\n",
       "      <td>4.975000</td>\n",
       "      <td>6.190000</td>\n",
       "      <td>NaN</td>\n",
       "      <td>1Gn0oYQiQHp7KF4DcR2g4t</td>\n",
       "      <td>NaN</td>\n",
       "      <td>I'm looking at you\\nBut It's only a picture so...</td>\n",
       "      <td>en</td>\n",
       "    </tr>\n",
       "    <tr>\n",
       "      <th>16794</th>\n",
       "      <td>229436</td>\n",
       "      <td>https://www.last.fm/music/portugal.%2bthe%2bma...</td>\n",
       "      <td>Oh Lord</td>\n",
       "      <td>Portugal. The Man</td>\n",
       "      <td>['transparent']</td>\n",
       "      <td>1</td>\n",
       "      <td>5.370000</td>\n",
       "      <td>3.450000</td>\n",
       "      <td>5.330000</td>\n",
       "      <td>7ea228f9-16d0-474d-8c51-5a1a9810ddde</td>\n",
       "      <td>6YG8cjbrjhDhlYMiQnibUD</td>\n",
       "      <td>indie</td>\n",
       "      <td>\\n\\n\\nWhere do I fit in\\nI am waiting here for...</td>\n",
       "      <td>en</td>\n",
       "    </tr>\n",
       "    <tr>\n",
       "      <th>16795</th>\n",
       "      <td>229443</td>\n",
       "      <td>https://www.last.fm/music/porcelain%2band%2bth...</td>\n",
       "      <td>Transparent</td>\n",
       "      <td>Porcelain and The Tramps</td>\n",
       "      <td>['transparent']</td>\n",
       "      <td>3</td>\n",
       "      <td>6.613333</td>\n",
       "      <td>4.633333</td>\n",
       "      <td>5.773333</td>\n",
       "      <td>NaN</td>\n",
       "      <td>NaN</td>\n",
       "      <td>industrial</td>\n",
       "      <td>Wish I were transparent\\nYou could see right t...</td>\n",
       "      <td>en</td>\n",
       "    </tr>\n",
       "    <tr>\n",
       "      <th>16796</th>\n",
       "      <td>229473</td>\n",
       "      <td>https://www.last.fm/music/daniel%2blanois/_/lo...</td>\n",
       "      <td>Lovechild</td>\n",
       "      <td>Daniel Lanois</td>\n",
       "      <td>['transparent']</td>\n",
       "      <td>2</td>\n",
       "      <td>6.685000</td>\n",
       "      <td>4.405000</td>\n",
       "      <td>5.625000</td>\n",
       "      <td>16c3d394-c4d4-4dc2-bbf1-b2bef3ac861c</td>\n",
       "      <td>4fVObxldDzxxRD6a5Eth9s</td>\n",
       "      <td>indie</td>\n",
       "      <td>I CAUGHT HER STARING, A PSYCHEDELIC DANCER,\\nG...</td>\n",
       "      <td>en</td>\n",
       "    </tr>\n",
       "  </tbody>\n",
       "</table>\n",
       "<p>16797 rows × 14 columns</p>\n",
       "</div>"
      ],
      "text/plain": [
       "       Unnamed: 0                                         lastfm_url  \\\n",
       "0               1  https://www.last.fm/music/metallica/_/st.%2banger   \n",
       "1               3  https://www.last.fm/music/m.i.a./_/bamboo%2bbanga   \n",
       "2               5  https://www.last.fm/music/drowning%2bpool/_/st...   \n",
       "3              11  https://www.last.fm/music/kanye%2bwest/_/feedback   \n",
       "4              13     https://www.last.fm/music/deftones/_/7%2bwords   \n",
       "...           ...                                                ...   \n",
       "16792      229432       https://www.last.fm/music/noblegases/_/xenon   \n",
       "16793      229435  https://www.last.fm/music/kurt%2bvile/_/wild%2...   \n",
       "16794      229436  https://www.last.fm/music/portugal.%2bthe%2bma...   \n",
       "16795      229443  https://www.last.fm/music/porcelain%2band%2bth...   \n",
       "16796      229473  https://www.last.fm/music/daniel%2blanois/_/lo...   \n",
       "\n",
       "                  track                    artist  \\\n",
       "0             St. Anger                 Metallica   \n",
       "1          Bamboo Banga                    M.I.A.   \n",
       "2               Step Up             Drowning Pool   \n",
       "3              Feedback                Kanye West   \n",
       "4               7 Words                  Deftones   \n",
       "...                 ...                       ...   \n",
       "16792             Xenon                NobleGases   \n",
       "16793  Wild Imagination                 Kurt Vile   \n",
       "16794           Oh Lord         Portugal. The Man   \n",
       "16795       Transparent  Porcelain and The Tramps   \n",
       "16796         Lovechild             Daniel Lanois   \n",
       "\n",
       "                                            seeds  number_of_emotion_tags  \\\n",
       "0                                  ['aggressive']                       8   \n",
       "1      ['aggressive', 'fun', 'sexy', 'energetic']                      13   \n",
       "2                                  ['aggressive']                       9   \n",
       "3                                  ['aggressive']                       1   \n",
       "4                         ['aggressive', 'angry']                      10   \n",
       "...                                           ...                     ...   \n",
       "16792                                   ['noble']                       2   \n",
       "16793                             ['transparent']                       2   \n",
       "16794                             ['transparent']                       1   \n",
       "16795                             ['transparent']                       3   \n",
       "16796                             ['transparent']                       2   \n",
       "\n",
       "       valence_tags  arousal_tags  dominance_tags  \\\n",
       "0          3.710000      5.833000        5.427250   \n",
       "1          6.555071      5.537214        5.691357   \n",
       "2          2.971389      5.537500        4.726389   \n",
       "3          3.080000      5.870000        5.490000   \n",
       "4          3.807121      5.473939        4.729091   \n",
       "...             ...           ...             ...   \n",
       "16792      6.160000      3.695000        6.130000   \n",
       "16793      6.925000      4.975000        6.190000   \n",
       "16794      5.370000      3.450000        5.330000   \n",
       "16795      6.613333      4.633333        5.773333   \n",
       "16796      6.685000      4.405000        5.625000   \n",
       "\n",
       "                                       mbid              spotify_id  \\\n",
       "0      727a2529-7ee8-4860-aef6-7959884895cb  3fOc9x06lKJBhz435mInlH   \n",
       "1      99dd2c8c-e7c1-413e-8ea4-4497a00ffa18  6tqFC1DIOphJkCwrjVzPmg   \n",
       "2      49e7b4d2-3772-4301-ba25-3cc46ceb342e  4Q1w4Ryyi8KNxxaFlOQClK   \n",
       "3                                       NaN  49fT6owWuknekShh9utsjv   \n",
       "4      1a826083-5585-445f-a708-415dc90aa050  6DoXuH326aAYEN8CnlLmhP   \n",
       "...                                     ...                     ...   \n",
       "16792                                   NaN  1AePjgLLtzF0abbfcgYdLI   \n",
       "16793                                   NaN  1Gn0oYQiQHp7KF4DcR2g4t   \n",
       "16794  7ea228f9-16d0-474d-8c51-5a1a9810ddde  6YG8cjbrjhDhlYMiQnibUD   \n",
       "16795                                   NaN                     NaN   \n",
       "16796  16c3d394-c4d4-4dc2-bbf1-b2bef3ac861c  4fVObxldDzxxRD6a5Eth9s   \n",
       "\n",
       "            genre                                              Lyric language  \n",
       "0           metal  Saint Anger 'round my neck\\nSaint Anger 'round...       en  \n",
       "1         hip-hop  Road runner, road runner\\nGoing hundred mile p...       en  \n",
       "2           metal  Come!\\n\\nIf our own lives aren’t directly affe...       en  \n",
       "3         hip-hop  Ayy, y'all heard about the good news?\\nY'all s...       en  \n",
       "4        nu metal  I'll never be the same, breaking decency\\nDon'...       en  \n",
       "...           ...                                                ...      ...  \n",
       "16792       chill  You're floating out astray\\nThis cold and life...       en  \n",
       "16793         NaN  I'm looking at you\\nBut It's only a picture so...       en  \n",
       "16794       indie  \\n\\n\\nWhere do I fit in\\nI am waiting here for...       en  \n",
       "16795  industrial  Wish I were transparent\\nYou could see right t...       en  \n",
       "16796       indie  I CAUGHT HER STARING, A PSYCHEDELIC DANCER,\\nG...       en  \n",
       "\n",
       "[16797 rows x 14 columns]"
      ]
     },
     "execution_count": 5,
     "metadata": {},
     "output_type": "execute_result"
    }
   ],
   "source": [
    "import pandas as pd\n",
    "data = pd.read_csv('out.csv')\n",
    "data"
   ]
  },
  {
   "cell_type": "code",
   "execution_count": 6,
   "id": "27fe8ede-e385-4a70-9faa-0f9218c3ec81",
   "metadata": {},
   "outputs": [],
   "source": [
    "data['word-len'] = data['Lyric'].apply(lambda i: len(i.split(' ')))"
   ]
  },
  {
   "cell_type": "code",
   "execution_count": 7,
   "id": "9cf3c267-5d47-4895-833c-35654147c664",
   "metadata": {},
   "outputs": [
    {
     "data": {
      "text/plain": [
       "<AxesSubplot: >"
      ]
     },
     "execution_count": 7,
     "metadata": {},
     "output_type": "execute_result"
    },
    {
     "data": {
      "image/png": "[encoded data removed]",
      "text/plain": [
       "<Figure size 640x480 with 1 Axes>"
      ]
     },
     "metadata": {},
     "output_type": "display_data"
    }
   ],
   "source": [
    "data['word-len'].hist(bins=20)"
   ]
  },
  {
   "cell_type": "code",
   "execution_count": 8,
   "id": "06c5a0c3-3b98-4d61-8666-29843935f87c",
   "metadata": {},
   "outputs": [],
   "source": [
    "CUTOFF = int(data['word-len'].mean() + data['word-len'].std())"
   ]
  },
  {
   "cell_type": "code",
   "execution_count": 9,
   "id": "ab0fb342-09d5-43e2-9807-0a77fe971d79",
   "metadata": {},
   "outputs": [],
   "source": [
    "import re\n",
    "data['no-punct'] = data['Lyric'].apply(lambda i: re.sub(r'[^\\w\\s]', '', i))\n",
    "data['no-punct'] = data['no-punct'].apply(lambda i: i.lower())\n",
    "data['words-split'] = data['no-punct'].apply(lambda i: re.split(' |\\n', i))\n",
    "data['words-split'] = data['words-split'].apply(lambda i: [j for j in i if j])"
   ]
  },
  {
   "cell_type": "code",
   "execution_count": 10,
   "id": "343f9ae6-42b3-4e1a-88b5-913058aeabf0",
   "metadata": {},
   "outputs": [
    {
     "data": {
      "text/plain": [
       "0    [saint, anger, round, my, neck, saint, anger, ...\n",
       "1    [road, runner, road, runner, going, hundred, m...\n",
       "2    [come, if, our, own, lives, arent, directly, a...\n",
       "3    [ayy, yall, heard, about, the, good, news, yal...\n",
       "4    [ill, never, be, the, same, breaking, decency,...\n",
       "Name: words-split, dtype: object"
      ]
     },
     "execution_count": 10,
     "metadata": {},
     "output_type": "execute_result"
    }
   ],
   "source": [
    "data['words-split'].head()"
   ]
  },
  {
   "cell_type": "code",
   "execution_count": 11,
   "id": "bf3bfb87-190c-44d7-aecb-87ab288906e5",
   "metadata": {},
   "outputs": [],
   "source": [
    "# Normalize sequence length\n",
    "data['trimmed'] = data['words-split'].apply(lambda i: i[:CUTOFF] if len(i) > CUTOFF else i)\n",
    "data['padded'] = data['trimmed'].apply(lambda i: i + [''] * (CUTOFF - len(i)))"
   ]
  },
  {
   "cell_type": "code",
   "execution_count": 12,
   "id": "5ba5b109-ac85-443c-84ef-a28e8cb2219e",
   "metadata": {},
   "outputs": [
    {
     "name": "stderr",
     "output_type": "stream",
     "text": [
      "100%|██████████████████████████████████████████████████████████████████████████████████████████████████████████████████████████████████████████████████████████████████████████| 16797/16797 [00:25<00:00, 668.88it/s]\n"
     ]
    },
    {
     "data": {
      "text/plain": [
       "(16797, 329, 302)"
      ]
     },
     "execution_count": 12,
     "metadata": {},
     "output_type": "execute_result"
    }
   ],
   "source": [
    "tqdm.pandas()\n",
    "encodings = np.stack(data['padded'].progress_apply(lambda i: np.stack([vectorize(j) for j in i])))\n",
    "encodings.shape"
   ]
  },
  {
   "cell_type": "markdown",
   "id": "41eea72d-6a09-41f5-a87b-30645e2a62ce",
   "metadata": {},
   "source": [
    "## Model"
   ]
  },
  {
   "cell_type": "code",
   "execution_count": 13,
   "id": "2162c3d3-a051-402d-95fa-8983ad5d72b6",
   "metadata": {},
   "outputs": [
    {
     "name": "stdout",
     "output_type": "stream",
     "text": [
      "Metal device set to: Apple M1 Pro\n"
     ]
    },
    {
     "name": "stderr",
     "output_type": "stream",
     "text": [
      "2023-03-08 11:14:32.822580: I tensorflow/core/common_runtime/pluggable_device/pluggable_device_factory.cc:306] Could not identify NUMA node of platform GPU ID 0, defaulting to 0. Your kernel may not have been built with NUMA support.\n",
      "2023-03-08 11:14:32.822837: I tensorflow/core/common_runtime/pluggable_device/pluggable_device_factory.cc:272] Created TensorFlow device (/job:localhost/replica:0/task:0/device:GPU:0 with 0 MB memory) -> physical PluggableDevice (device: 0, name: METAL, pci bus id: <undefined>)\n"
     ]
    },
    {
     "name": "stdout",
     "output_type": "stream",
     "text": [
      "Model: \"model\"\n",
      "_________________________________________________________________\n",
      " Layer (type)                Output Shape              Param #   \n",
      "=================================================================\n",
      " input_1 (InputLayer)        [(None, 329, 302)]        0         \n",
      "                                                                 \n",
      " dense (Dense)               (None, 329, 30)           9090      \n",
      "                                                                 \n",
      " reshape (Reshape)           (None, 329, 30, 1)        0         \n",
      "                                                                 \n",
      " conv2d (Conv2D)             (None, 305, 6, 100)       62600     \n",
      "                                                                 \n",
      " max_pooling2d (MaxPooling2D  (None, 152, 3, 100)      0         \n",
      " )                                                               \n",
      "                                                                 \n",
      " flatten (Flatten)           (None, 45600)             0         \n",
      "                                                                 \n",
      " dense_1 (Dense)             (None, 30)                1368030   \n",
      "                                                                 \n",
      " dropout (Dropout)           (None, 30)                0         \n",
      "                                                                 \n",
      " dense_2 (Dense)             (None, 30)                930       \n",
      "                                                                 \n",
      " dense_3 (Dense)             (None, 3)                 93        \n",
      "                                                                 \n",
      "=================================================================\n",
      "Total params: 1,440,743\n",
      "Trainable params: 1,440,743\n",
      "Non-trainable params: 0\n",
      "_________________________________________________________________\n"
     ]
    }
   ],
   "source": [
    "import tensorflow as tf\n",
    "\n",
    "in_size = 302\n",
    "\n",
    "inputs = tf.keras.layers.Input((CUTOFF, in_size))\n",
    "x = tf.keras.layers.Dense(in_size // 10)(inputs)\n",
    "x = tf.keras.layers.Reshape((*x.shape[1:], 1))(x)\n",
    "x = tf.keras.layers.Conv2D(100, 25, activation='relu')(x)\n",
    "x = tf.keras.layers.MaxPool2D()(x)\n",
    "x = tf.keras.layers.Flatten()(x)\n",
    "x = tf.keras.layers.Dense(in_size // 10, activation='relu')(x)\n",
    "x = tf.keras.layers.Dropout(rate=.1)(x)\n",
    "x = tf.keras.layers.Dense(in_size // 10, activation='relu')(x)\n",
    "x = tf.keras.layers.Dense(3)(x)\n",
    "\n",
    "model = tf.keras.Model(inputs=inputs, outputs=x)\n",
    "model.compile(optimizer='adam', loss='mean_squared_error')\n",
    "model.summary()"
   ]
  },
  {
   "cell_type": "code",
   "execution_count": 14,
   "id": "e04d46d7-0013-45f7-bb93-f95297d3919c",
   "metadata": {},
   "outputs": [
    {
     "data": {
      "text/plain": [
       "(16797, 3)"
      ]
     },
     "execution_count": 14,
     "metadata": {},
     "output_type": "execute_result"
    }
   ],
   "source": [
    "def normalize(inp: np.ndarray) -> np.ndarray:\n",
    "    return (inp - inp.mean()) / inp.std()\n",
    "\n",
    "valence_norm = normalize(data['valence_tags'].to_numpy())\n",
    "arousal_norm = normalize(data['arousal_tags'].to_numpy())\n",
    "dominance_norm = normalize(data['arousal_tags'].to_numpy())\n",
    "\n",
    "data['valence_norm'] = valence_norm\n",
    "data['arousal_norm'] = arousal_norm\n",
    "data['dominance_norm'] = dominance_norm\n",
    "\n",
    "labels = np.stack([valence_norm, arousal_norm, dominance_norm], axis=1)\n",
    "labels.shape"
   ]
  },
  {
   "cell_type": "code",
   "execution_count": null,
   "id": "b6fca683-aaf9-48f0-a7ae-fabc1ce0a5c1",
   "metadata": {},
   "outputs": [],
   "source": [
    "# from sklearn.model_selection import train_test_split\n",
    "# x_train, x_val, y_train, y_val = train_test_split(encodings, labels, test_size=.1)"
   ]
  },
  {
   "cell_type": "code",
   "execution_count": 16,
   "id": "ab61225e-7bf1-46cf-beb4-e435d2b84259",
   "metadata": {},
   "outputs": [
    {
     "name": "stdout",
     "output_type": "stream",
     "text": [
      "Epoch 1/25\n"
     ]
    },
    {
     "name": "stderr",
     "output_type": "stream",
     "text": [
      "2023-03-08 11:15:20.715035: W tensorflow/core/platform/profile_utils/cpu_utils.cc:128] Failed to get CPU frequency: 0 Hz\n",
      "2023-03-08 11:15:21.261124: I tensorflow/core/grappler/optimizers/custom_graph_optimizer_registry.cc:114] Plugin optimizer for device_type GPU is enabled.\n"
     ]
    },
    {
     "name": "stdout",
     "output_type": "stream",
     "text": [
      "152/152 [==============================] - ETA: 0s - loss: 0.9847"
     ]
    },
    {
     "name": "stderr",
     "output_type": "stream",
     "text": [
      "2023-03-08 11:17:34.151784: I tensorflow/core/grappler/optimizers/custom_graph_optimizer_registry.cc:114] Plugin optimizer for device_type GPU is enabled.\n"
     ]
    },
    {
     "name": "stdout",
     "output_type": "stream",
     "text": [
      "152/152 [==============================] - 135s 882ms/step - loss: 0.9847 - val_loss: 1.1485\n",
      "Epoch 2/25\n",
      "152/152 [==============================] - 131s 861ms/step - loss: 0.9844 - val_loss: 1.1496\n",
      "Epoch 3/25\n",
      "152/152 [==============================] - 131s 859ms/step - loss: 0.9844 - val_loss: 1.1515\n",
      "Epoch 4/25\n",
      "152/152 [==============================] - 131s 860ms/step - loss: 0.9844 - val_loss: 1.1512\n",
      "Epoch 5/25\n",
      "152/152 [==============================] - 131s 861ms/step - loss: 0.9844 - val_loss: 1.1511\n",
      "Epoch 6/25\n",
      "152/152 [==============================] - 131s 860ms/step - loss: 0.9844 - val_loss: 1.1517\n",
      "Epoch 7/25\n",
      "152/152 [==============================] - 131s 860ms/step - loss: 0.9844 - val_loss: 1.1529\n",
      "Epoch 8/25\n",
      "152/152 [==============================] - 131s 862ms/step - loss: 0.9844 - val_loss: 1.1513\n",
      "Epoch 9/25\n",
      "152/152 [==============================] - 131s 861ms/step - loss: 0.9844 - val_loss: 1.1531\n",
      "Epoch 10/25\n",
      "152/152 [==============================] - 131s 862ms/step - loss: 0.9844 - val_loss: 1.1519\n",
      "Epoch 11/25\n",
      "152/152 [==============================] - 131s 861ms/step - loss: 0.9844 - val_loss: 1.1544\n",
      "Epoch 12/25\n",
      "152/152 [==============================] - 131s 861ms/step - loss: 0.9845 - val_loss: 1.1532\n",
      "Epoch 13/25\n",
      "152/152 [==============================] - 131s 860ms/step - loss: 0.9844 - val_loss: 1.1532\n",
      "Epoch 14/25\n",
      " 58/152 [==========>...................] - ETA: 1:20 - loss: 1.0037"
     ]
    },
    {
     "name": "stderr",
     "output_type": "stream",
     "text": [
      "\n",
      "KeyboardInterrupt\n",
      "\n"
     ]
    }
   ],
   "source": [
    "model.fit(encodings, labels, validation_split=.1, batch_size=100, epochs=25)"
   ]
  },
  {
   "cell_type": "code",
   "execution_count": 17,
   "id": "f7026e89-7c5b-4edd-86e0-bf444c4dff2a",
   "metadata": {},
   "outputs": [
    {
     "name": "stderr",
     "output_type": "stream",
     "text": [
      "WARNING:absl:Found untraced functions such as _jit_compiled_convolution_op while saving (showing 1 of 1). These functions will not be directly callable after loading.\n"
     ]
    },
    {
     "name": "stdout",
     "output_type": "stream",
     "text": [
      "INFO:tensorflow:Assets written to: demo-model-w2v/assets\n"
     ]
    },
    {
     "name": "stderr",
     "output_type": "stream",
     "text": [
      "INFO:tensorflow:Assets written to: demo-model-w2v/assets\n"
     ]
    }
   ],
   "source": [
    "model.save('demo-model-w2v')"
   ]
  },
  {
   "cell_type": "code",
   "execution_count": 16,
   "id": "185c1d0a-4fe7-4e01-bb4c-94b623c7721f",
   "metadata": {},
   "outputs": [],
   "source": [
    "model = tf.keras.models.load_model('demo-model-w2v')"
   ]
  },
  {
   "cell_type": "code",
   "execution_count": 24,
   "id": "996fcb72-aa08-4f02-a090-a75707f010f8",
   "metadata": {},
   "outputs": [],
   "source": [
    "test_idx = 12\n",
    "to_pred = np.stack([vectorize(i) for i in data['padded'].iloc[test_idx]])\n",
    "to_pred = np.expand_dims(to_pred, axis=0)"
   ]
  },
  {
   "cell_type": "code",
   "execution_count": 25,
   "id": "f8ed3038-d331-497e-a332-c5b7d59b21f2",
   "metadata": {},
   "outputs": [
    {
     "data": {
      "text/plain": [
       "(1, 329, 302)"
      ]
     },
     "execution_count": 25,
     "metadata": {},
     "output_type": "execute_result"
    }
   ],
   "source": [
    "to_pred.shape"
   ]
  },
  {
   "cell_type": "code",
   "execution_count": 26,
   "id": "bca65cc3-d8e4-4a8f-be2d-cb163bb82985",
   "metadata": {},
   "outputs": [
    {
     "data": {
      "text/plain": [
       "Unnamed: 0                                                               33\n",
       "lastfm_url                https://www.last.fm/music/mystikal/_/shake%2by...\n",
       "track                                                          Shake Ya Ass\n",
       "artist                                                             Mystikal\n",
       "seeds                                                        ['aggressive']\n",
       "number_of_emotion_tags                                                   11\n",
       "valence_tags                                                       5.680882\n",
       "arousal_tags                                                       5.751912\n",
       "dominance_tags                                                     5.930882\n",
       "mbid                                   bf2761fe-8b4d-4cc8-bdea-0ccda7c3fed1\n",
       "spotify_id                                           1jRzdY7oUBOhrylNtiMtBD\n",
       "genre                                                               hip-hop\n",
       "Lyric                     Mmm! Mmm, mmm, mmm\\nOooh-OOOH!\\n\\n[Hook - repe...\n",
       "language                                                                 en\n",
       "word-len                                                                513\n",
       "no-punct                  mmm mmm mmm mmm\\nooohoooh\\n\\nhook  repeat 2x\\n...\n",
       "words-split               [mmm, mmm, mmm, mmm, ooohoooh, hook, repeat, 2...\n",
       "trimmed                   [mmm, mmm, mmm, mmm, ooohoooh, hook, repeat, 2...\n",
       "padded                    [mmm, mmm, mmm, mmm, ooohoooh, hook, repeat, 2...\n",
       "valence_norm                                                       0.103108\n",
       "arousal_norm                                                       1.257602\n",
       "dominance_norm                                                     1.257602\n",
       "Name: 12, dtype: object"
      ]
     },
     "execution_count": 26,
     "metadata": {},
     "output_type": "execute_result"
    }
   ],
   "source": [
    "# def normalize_pt(pt: float, arr: np.ndarray) -> float:\n",
    "#     return (pt - arr.mean()) / arr.std()\n",
    "# normalize_pt(data.iloc[test_idx]['dominance_tags'], data['dominance_tags'].to_numpy())\n",
    "data.iloc[test_idx]"
   ]
  },
  {
   "cell_type": "code",
   "execution_count": 27,
   "id": "2203f606-7e59-44a0-90ff-0ca14af141a5",
   "metadata": {},
   "outputs": [
    {
     "name": "stdout",
     "output_type": "stream",
     "text": [
      "1/1 [==============================] - 0s 16ms/step\n"
     ]
    },
    {
     "data": {
      "text/plain": [
       "array([[-0.02039935,  0.0372753 ,  0.04638171]], dtype=float32)"
      ]
     },
     "execution_count": 27,
     "metadata": {},
     "output_type": "execute_result"
    }
   ],
   "source": [
    "model.predict(to_pred)"
   ]
  },
  {
   "cell_type": "code",
   "execution_count": 28,
   "id": "72671f52-6acc-466a-9acf-c5caae2dda0a",
   "metadata": {},
   "outputs": [
    {
     "name": "stdout",
     "output_type": "stream",
     "text": [
      "168/168 [==============================] - 15s 87ms/step\n"
     ]
    }
   ],
   "source": [
    "predictions = model.predict(encodings, batch_size=100)"
   ]
  },
  {
   "cell_type": "code",
   "execution_count": 34,
   "id": "2bc38ff3-0a60-48e2-bea5-c72b470405df",
   "metadata": {},
   "outputs": [
    {
     "data": {
      "text/plain": [
       "(7.450581e-09, 7.450581e-09, 7.450581e-09)"
      ]
     },
     "execution_count": 34,
     "metadata": {},
     "output_type": "execute_result"
    }
   ],
   "source": [
    "predictions[:, 0].std(), predictions[:, 1].std(), predictions[:, 2].std()"
   ]
  },
  {
   "cell_type": "code",
   "execution_count": 36,
   "id": "29329087-046b-46c2-89d3-d9645ef8fc96",
   "metadata": {},
   "outputs": [],
   "source": [
    "# import matplotlib.pyplot as plt\n",
    "\n",
    "# rng = np.random.default_rng()\n",
    "# sample = rng.integers(len(data), size=100)\n",
    "\n",
    "# to_pred = data['padded'].iloc[sample]\n",
    "# to_pred = np.stack([enc.transform(i) for i in to_pred])\n",
    "# x = np.stack([i.toarray() for i in to_pred])\n",
    "# pred = model.predict(x, batch_size=100)\n",
    "pred = predictions"
   ]
  },
  {
   "cell_type": "code",
   "execution_count": 38,
   "id": "b602db64-db53-4049-94a6-27ce358da0b3",
   "metadata": {},
   "outputs": [
    {
     "data": {
      "text/plain": [
       "-0.001694765315293223"
      ]
     },
     "execution_count": 38,
     "metadata": {},
     "output_type": "execute_result"
    }
   ],
   "source": [
    "from sklearn.metrics import r2_score\n",
    "valence_lbls = data['arousal_norm'].to_numpy()\n",
    "r2_score(valence_lbls, pred[:, 1])"
   ]
  },
  {
   "cell_type": "code",
   "execution_count": 39,
   "id": "33917b16-2416-4f6f-83af-2f31389ee62e",
   "metadata": {},
   "outputs": [
    {
     "data": {
      "text/plain": [
       "Text(0.5, 1.0, 'Valence Prediction Performance')"
      ]
     },
     "execution_count": 39,
     "metadata": {},
     "output_type": "execute_result"
    },
    {
     "data": {
      "image/png": "[encoded data removed]",
      "text/plain": [
       "<Figure size 640x480 with 1 Axes>"
      ]
     },
     "metadata": {},
     "output_type": "display_data"
    }
   ],
   "source": [
    "valence_true = data['valence_norm']\n",
    "valence_pred = pred[:, 0]\n",
    "plt.scatter(valence_pred, valence_true)\n",
    "plt.xlabel('Predicted Valence')\n",
    "plt.ylabel('True Valence')\n",
    "plt.title('Valence Prediction Performance')"
   ]
  },
  {
   "cell_type": "code",
   "execution_count": 40,
   "id": "0fe455ca-144a-4931-9748-7c10bc8abdbe",
   "metadata": {},
   "outputs": [
    {
     "data": {
      "text/plain": [
       "Text(0.5, 1.0, 'Arousal Prediction Performance')"
      ]
     },
     "execution_count": 40,
     "metadata": {},
     "output_type": "execute_result"
    },
    {
     "data": {
      "image/png": "[encoded data removed]",
      "text/plain": [
       "<Figure size 640x480 with 1 Axes>"
      ]
     },
     "metadata": {},
     "output_type": "display_data"
    }
   ],
   "source": [
    "arousal_true = data['arousal_tags']\n",
    "arousal_pred = pred[:, 1]\n",
    "plt.scatter(arousal_pred, arousal_true)\n",
    "plt.xlabel('Predicted Arousal')\n",
    "plt.ylabel('True Arousal')\n",
    "plt.title('Arousal Prediction Performance')"
   ]
  },
  {
   "cell_type": "code",
   "execution_count": 41,
   "id": "89240bdd-bec3-48b3-9eb7-bfedd062d23e",
   "metadata": {},
   "outputs": [
    {
     "data": {
      "text/plain": [
       "Text(0.5, 1.0, 'Dominance Prediction Performance')"
      ]
     },
     "execution_count": 41,
     "metadata": {},
     "output_type": "execute_result"
    },
    {
     "data": {
      "image/png": "[encoded data removed]",
      "text/plain": [
       "<Figure size 640x480 with 1 Axes>"
      ]
     },
     "metadata": {},
     "output_type": "display_data"
    }
   ],
   "source": [
    "dominance_true = data['dominance_tags']\n",
    "dominance_pred = pred[:, 2]\n",
    "plt.scatter(dominance_pred, dominance_true)\n",
    "plt.xlabel('Predicted Dominance')\n",
    "plt.ylabel('True Dominance')\n",
    "plt.title('Dominance Prediction Performance')"
   ]
  },
  {
   "cell_type": "code",
   "execution_count": null,
   "id": "46ac89a0-cecb-4971-8d53-4333642ac11a",
   "metadata": {},
   "outputs": [],
   "source": []
  }
 ],
 "metadata": {
  "kernelspec": {
   "display_name": "Python 3 (ipykernel)",
   "language": "python",
   "name": "python3"
  },
  "language_info": {
   "codemirror_mode": {
    "name": "ipython",
    "version": 3
   },
   "file_extension": ".py",
   "mimetype": "text/x-python",
   "name": "python",
   "nbconvert_exporter": "python",
   "pygments_lexer": "ipython3",
   "version": "3.10.6"
  }
 },
 "nbformat": 4,
 "nbformat_minor": 5
}
