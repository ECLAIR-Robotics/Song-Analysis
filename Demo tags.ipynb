{
 "cells": [
  {
   "cell_type": "markdown",
   "id": "d303679b-0163-4a62-8dd4-3876e42d02e5",
   "metadata": {},
   "source": [
    "# Demo (Tag Prediction)"
   ]
  },
  {
   "cell_type": "markdown",
   "id": "24be4af0-dee4-45b8-b4e8-b51272d138c6",
   "metadata": {},
   "source": [
    "Maybe valence/arousal/dominance values are bogus, attempting to predict tags instead"
   ]
  },
  {
   "cell_type": "markdown",
   "id": "34c4e72c-57cb-4d4d-af2e-dc8831a29f48",
   "metadata": {},
   "source": [
    "## Load Vectorizer"
   ]
  },
  {
   "cell_type": "code",
   "execution_count": 1,
   "id": "0a9b5ec0-9992-4e64-b022-92c5aa0096d9",
   "metadata": {},
   "outputs": [],
   "source": [
    "VOCAB_SIZE = 100000"
   ]
  },
  {
   "cell_type": "code",
   "execution_count": 2,
   "id": "74da2766-d7a3-4ea7-a458-e93f98ad129c",
   "metadata": {},
   "outputs": [],
   "source": [
    "def _count_generator(reader):\n",
    "    b = reader(1024 * 1024)\n",
    "    while b:\n",
    "        yield b\n",
    "        b = reader(1024 * 1024)\n",
    "\n",
    "def num_lines(path):\n",
    "    with open(path, 'rb') as fp:\n",
    "        c_generator = _count_generator(fp.raw.read)\n",
    "        # count each \\n\n",
    "        count = sum(buffer.count(b'\\n') for buffer in c_generator)\n",
    "        return count + 1\n",
    "\n",
    "# Code from https://fasttext.cc/docs/en/english-vectors.html\n",
    "# Modified to use a limited vocabulary size and have a progress bar\n",
    "import io\n",
    "from tqdm import tqdm as tqdm\n",
    "import numpy as np\n",
    "\n",
    "def load_vectors(fname):\n",
    "    # lines = num_lines(fname)\n",
    "    fin = io.open(fname, 'r', encoding='utf-8', newline='\\n', errors='ignore')\n",
    "    n, d = map(int, fin.readline().split())\n",
    "    data = {}\n",
    "    # for line in tqdm(fin, total=lines):\n",
    "    for idx, line in tqdm(enumerate(fin), total=VOCAB_SIZE):\n",
    "        if idx >= VOCAB_SIZE:\n",
    "            break\n",
    "        tokens = line.rstrip().split(' ')\n",
    "        data[tokens[0]] = np.array(list(map(float, tokens[1:])) + [0, 0])\n",
    "    return data"
   ]
  },
  {
   "cell_type": "code",
   "execution_count": 3,
   "id": "f8b1d99d-429c-4f3a-a6bc-b87190ebd886",
   "metadata": {},
   "outputs": [
    {
     "name": "stderr",
     "output_type": "stream",
     "text": [
      "100%|██████████████████████████████████████████████████████████████████████████████████████████████████████████████████████████████████████████████████████████████████████| 100000/100000 [00:03<00:00, 28637.58it/s]\n"
     ]
    }
   ],
   "source": [
    "vectorizer = load_vectors('wiki-news-300d-1M-subword-fasttext/wiki-news-300d-1M-subword.vec')"
   ]
  },
  {
   "cell_type": "code",
   "execution_count": 4,
   "id": "e0bdb46d-ebc0-4590-a393-8b663a4a3496",
   "metadata": {},
   "outputs": [],
   "source": [
    "def vectorize(word) -> np.ndarray:\n",
    "    if word == '':  # If this is a pad token\n",
    "        return np.array([0] * 301 + [1], dtype=np.float64)\n",
    "    if word in vectorizer:  # If this word is in our vocabulary\n",
    "        return vectorizer[word]\n",
    "    return np.array([0] * 300 + [1, 0], dtype=np.float64)  # Unknown token"
   ]
  },
  {
   "cell_type": "markdown",
   "id": "a8a117e1-ad7e-4eb9-97fc-bcc28667faf5",
   "metadata": {},
   "source": [
    "## Load Data"
   ]
  },
  {
   "cell_type": "code",
   "execution_count": 5,
   "id": "1c51f60f-4a14-4943-bd59-e236541ac586",
   "metadata": {},
   "outputs": [
    {
     "data": {
      "text/html": [
       "<div>\n",
       "<style scoped>\n",
       "    .dataframe tbody tr th:only-of-type {\n",
       "        vertical-align: middle;\n",
       "    }\n",
       "\n",
       "    .dataframe tbody tr th {\n",
       "        vertical-align: top;\n",
       "    }\n",
       "\n",
       "    .dataframe thead th {\n",
       "        text-align: right;\n",
       "    }\n",
       "</style>\n",
       "<table border=\"1\" class=\"dataframe\">\n",
       "  <thead>\n",
       "    <tr style=\"text-align: right;\">\n",
       "      <th></th>\n",
       "      <th>Unnamed: 0</th>\n",
       "      <th>lastfm_url</th>\n",
       "      <th>track</th>\n",
       "      <th>artist</th>\n",
       "      <th>seeds</th>\n",
       "      <th>number_of_emotion_tags</th>\n",
       "      <th>valence_tags</th>\n",
       "      <th>arousal_tags</th>\n",
       "      <th>dominance_tags</th>\n",
       "      <th>mbid</th>\n",
       "      <th>spotify_id</th>\n",
       "      <th>genre</th>\n",
       "      <th>Lyric</th>\n",
       "      <th>language</th>\n",
       "    </tr>\n",
       "  </thead>\n",
       "  <tbody>\n",
       "    <tr>\n",
       "      <th>0</th>\n",
       "      <td>1</td>\n",
       "      <td>https://www.last.fm/music/metallica/_/st.%2banger</td>\n",
       "      <td>St. Anger</td>\n",
       "      <td>Metallica</td>\n",
       "      <td>['aggressive']</td>\n",
       "      <td>8</td>\n",
       "      <td>3.710000</td>\n",
       "      <td>5.833000</td>\n",
       "      <td>5.427250</td>\n",
       "      <td>727a2529-7ee8-4860-aef6-7959884895cb</td>\n",
       "      <td>3fOc9x06lKJBhz435mInlH</td>\n",
       "      <td>metal</td>\n",
       "      <td>Saint Anger 'round my neck\\nSaint Anger 'round...</td>\n",
       "      <td>en</td>\n",
       "    </tr>\n",
       "    <tr>\n",
       "      <th>1</th>\n",
       "      <td>3</td>\n",
       "      <td>https://www.last.fm/music/m.i.a./_/bamboo%2bbanga</td>\n",
       "      <td>Bamboo Banga</td>\n",
       "      <td>M.I.A.</td>\n",
       "      <td>['aggressive', 'fun', 'sexy', 'energetic']</td>\n",
       "      <td>13</td>\n",
       "      <td>6.555071</td>\n",
       "      <td>5.537214</td>\n",
       "      <td>5.691357</td>\n",
       "      <td>99dd2c8c-e7c1-413e-8ea4-4497a00ffa18</td>\n",
       "      <td>6tqFC1DIOphJkCwrjVzPmg</td>\n",
       "      <td>hip-hop</td>\n",
       "      <td>Road runner, road runner\\nGoing hundred mile p...</td>\n",
       "      <td>en</td>\n",
       "    </tr>\n",
       "    <tr>\n",
       "      <th>2</th>\n",
       "      <td>5</td>\n",
       "      <td>https://www.last.fm/music/drowning%2bpool/_/st...</td>\n",
       "      <td>Step Up</td>\n",
       "      <td>Drowning Pool</td>\n",
       "      <td>['aggressive']</td>\n",
       "      <td>9</td>\n",
       "      <td>2.971389</td>\n",
       "      <td>5.537500</td>\n",
       "      <td>4.726389</td>\n",
       "      <td>49e7b4d2-3772-4301-ba25-3cc46ceb342e</td>\n",
       "      <td>4Q1w4Ryyi8KNxxaFlOQClK</td>\n",
       "      <td>metal</td>\n",
       "      <td>Come!\\n\\nIf our own lives aren’t directly affe...</td>\n",
       "      <td>en</td>\n",
       "    </tr>\n",
       "    <tr>\n",
       "      <th>3</th>\n",
       "      <td>11</td>\n",
       "      <td>https://www.last.fm/music/kanye%2bwest/_/feedback</td>\n",
       "      <td>Feedback</td>\n",
       "      <td>Kanye West</td>\n",
       "      <td>['aggressive']</td>\n",
       "      <td>1</td>\n",
       "      <td>3.080000</td>\n",
       "      <td>5.870000</td>\n",
       "      <td>5.490000</td>\n",
       "      <td>NaN</td>\n",
       "      <td>49fT6owWuknekShh9utsjv</td>\n",
       "      <td>hip-hop</td>\n",
       "      <td>Ayy, y'all heard about the good news?\\nY'all s...</td>\n",
       "      <td>en</td>\n",
       "    </tr>\n",
       "    <tr>\n",
       "      <th>4</th>\n",
       "      <td>13</td>\n",
       "      <td>https://www.last.fm/music/deftones/_/7%2bwords</td>\n",
       "      <td>7 Words</td>\n",
       "      <td>Deftones</td>\n",
       "      <td>['aggressive', 'angry']</td>\n",
       "      <td>10</td>\n",
       "      <td>3.807121</td>\n",
       "      <td>5.473939</td>\n",
       "      <td>4.729091</td>\n",
       "      <td>1a826083-5585-445f-a708-415dc90aa050</td>\n",
       "      <td>6DoXuH326aAYEN8CnlLmhP</td>\n",
       "      <td>nu metal</td>\n",
       "      <td>I'll never be the same, breaking decency\\nDon'...</td>\n",
       "      <td>en</td>\n",
       "    </tr>\n",
       "    <tr>\n",
       "      <th>...</th>\n",
       "      <td>...</td>\n",
       "      <td>...</td>\n",
       "      <td>...</td>\n",
       "      <td>...</td>\n",
       "      <td>...</td>\n",
       "      <td>...</td>\n",
       "      <td>...</td>\n",
       "      <td>...</td>\n",
       "      <td>...</td>\n",
       "      <td>...</td>\n",
       "      <td>...</td>\n",
       "      <td>...</td>\n",
       "      <td>...</td>\n",
       "      <td>...</td>\n",
       "    </tr>\n",
       "    <tr>\n",
       "      <th>16792</th>\n",
       "      <td>229432</td>\n",
       "      <td>https://www.last.fm/music/noblegases/_/xenon</td>\n",
       "      <td>Xenon</td>\n",
       "      <td>NobleGases</td>\n",
       "      <td>['noble']</td>\n",
       "      <td>2</td>\n",
       "      <td>6.160000</td>\n",
       "      <td>3.695000</td>\n",
       "      <td>6.130000</td>\n",
       "      <td>NaN</td>\n",
       "      <td>1AePjgLLtzF0abbfcgYdLI</td>\n",
       "      <td>chill</td>\n",
       "      <td>You're floating out astray\\nThis cold and life...</td>\n",
       "      <td>en</td>\n",
       "    </tr>\n",
       "    <tr>\n",
       "      <th>16793</th>\n",
       "      <td>229435</td>\n",
       "      <td>https://www.last.fm/music/kurt%2bvile/_/wild%2...</td>\n",
       "      <td>Wild Imagination</td>\n",
       "      <td>Kurt Vile</td>\n",
       "      <td>['transparent']</td>\n",
       "      <td>2</td>\n",
       "      <td>6.925000</td>\n",
       "      <td>4.975000</td>\n",
       "      <td>6.190000</td>\n",
       "      <td>NaN</td>\n",
       "      <td>1Gn0oYQiQHp7KF4DcR2g4t</td>\n",
       "      <td>NaN</td>\n",
       "      <td>I'm looking at you\\nBut It's only a picture so...</td>\n",
       "      <td>en</td>\n",
       "    </tr>\n",
       "    <tr>\n",
       "      <th>16794</th>\n",
       "      <td>229436</td>\n",
       "      <td>https://www.last.fm/music/portugal.%2bthe%2bma...</td>\n",
       "      <td>Oh Lord</td>\n",
       "      <td>Portugal. The Man</td>\n",
       "      <td>['transparent']</td>\n",
       "      <td>1</td>\n",
       "      <td>5.370000</td>\n",
       "      <td>3.450000</td>\n",
       "      <td>5.330000</td>\n",
       "      <td>7ea228f9-16d0-474d-8c51-5a1a9810ddde</td>\n",
       "      <td>6YG8cjbrjhDhlYMiQnibUD</td>\n",
       "      <td>indie</td>\n",
       "      <td>\\n\\n\\nWhere do I fit in\\nI am waiting here for...</td>\n",
       "      <td>en</td>\n",
       "    </tr>\n",
       "    <tr>\n",
       "      <th>16795</th>\n",
       "      <td>229443</td>\n",
       "      <td>https://www.last.fm/music/porcelain%2band%2bth...</td>\n",
       "      <td>Transparent</td>\n",
       "      <td>Porcelain and The Tramps</td>\n",
       "      <td>['transparent']</td>\n",
       "      <td>3</td>\n",
       "      <td>6.613333</td>\n",
       "      <td>4.633333</td>\n",
       "      <td>5.773333</td>\n",
       "      <td>NaN</td>\n",
       "      <td>NaN</td>\n",
       "      <td>industrial</td>\n",
       "      <td>Wish I were transparent\\nYou could see right t...</td>\n",
       "      <td>en</td>\n",
       "    </tr>\n",
       "    <tr>\n",
       "      <th>16796</th>\n",
       "      <td>229473</td>\n",
       "      <td>https://www.last.fm/music/daniel%2blanois/_/lo...</td>\n",
       "      <td>Lovechild</td>\n",
       "      <td>Daniel Lanois</td>\n",
       "      <td>['transparent']</td>\n",
       "      <td>2</td>\n",
       "      <td>6.685000</td>\n",
       "      <td>4.405000</td>\n",
       "      <td>5.625000</td>\n",
       "      <td>16c3d394-c4d4-4dc2-bbf1-b2bef3ac861c</td>\n",
       "      <td>4fVObxldDzxxRD6a5Eth9s</td>\n",
       "      <td>indie</td>\n",
       "      <td>I CAUGHT HER STARING, A PSYCHEDELIC DANCER,\\nG...</td>\n",
       "      <td>en</td>\n",
       "    </tr>\n",
       "  </tbody>\n",
       "</table>\n",
       "<p>16797 rows × 14 columns</p>\n",
       "</div>"
      ],
      "text/plain": [
       "       Unnamed: 0                                         lastfm_url  \\\n",
       "0               1  https://www.last.fm/music/metallica/_/st.%2banger   \n",
       "1               3  https://www.last.fm/music/m.i.a./_/bamboo%2bbanga   \n",
       "2               5  https://www.last.fm/music/drowning%2bpool/_/st...   \n",
       "3              11  https://www.last.fm/music/kanye%2bwest/_/feedback   \n",
       "4              13     https://www.last.fm/music/deftones/_/7%2bwords   \n",
       "...           ...                                                ...   \n",
       "16792      229432       https://www.last.fm/music/noblegases/_/xenon   \n",
       "16793      229435  https://www.last.fm/music/kurt%2bvile/_/wild%2...   \n",
       "16794      229436  https://www.last.fm/music/portugal.%2bthe%2bma...   \n",
       "16795      229443  https://www.last.fm/music/porcelain%2band%2bth...   \n",
       "16796      229473  https://www.last.fm/music/daniel%2blanois/_/lo...   \n",
       "\n",
       "                  track                    artist  \\\n",
       "0             St. Anger                 Metallica   \n",
       "1          Bamboo Banga                    M.I.A.   \n",
       "2               Step Up             Drowning Pool   \n",
       "3              Feedback                Kanye West   \n",
       "4               7 Words                  Deftones   \n",
       "...                 ...                       ...   \n",
       "16792             Xenon                NobleGases   \n",
       "16793  Wild Imagination                 Kurt Vile   \n",
       "16794           Oh Lord         Portugal. The Man   \n",
       "16795       Transparent  Porcelain and The Tramps   \n",
       "16796         Lovechild             Daniel Lanois   \n",
       "\n",
       "                                            seeds  number_of_emotion_tags  \\\n",
       "0                                  ['aggressive']                       8   \n",
       "1      ['aggressive', 'fun', 'sexy', 'energetic']                      13   \n",
       "2                                  ['aggressive']                       9   \n",
       "3                                  ['aggressive']                       1   \n",
       "4                         ['aggressive', 'angry']                      10   \n",
       "...                                           ...                     ...   \n",
       "16792                                   ['noble']                       2   \n",
       "16793                             ['transparent']                       2   \n",
       "16794                             ['transparent']                       1   \n",
       "16795                             ['transparent']                       3   \n",
       "16796                             ['transparent']                       2   \n",
       "\n",
       "       valence_tags  arousal_tags  dominance_tags  \\\n",
       "0          3.710000      5.833000        5.427250   \n",
       "1          6.555071      5.537214        5.691357   \n",
       "2          2.971389      5.537500        4.726389   \n",
       "3          3.080000      5.870000        5.490000   \n",
       "4          3.807121      5.473939        4.729091   \n",
       "...             ...           ...             ...   \n",
       "16792      6.160000      3.695000        6.130000   \n",
       "16793      6.925000      4.975000        6.190000   \n",
       "16794      5.370000      3.450000        5.330000   \n",
       "16795      6.613333      4.633333        5.773333   \n",
       "16796      6.685000      4.405000        5.625000   \n",
       "\n",
       "                                       mbid              spotify_id  \\\n",
       "0      727a2529-7ee8-4860-aef6-7959884895cb  3fOc9x06lKJBhz435mInlH   \n",
       "1      99dd2c8c-e7c1-413e-8ea4-4497a00ffa18  6tqFC1DIOphJkCwrjVzPmg   \n",
       "2      49e7b4d2-3772-4301-ba25-3cc46ceb342e  4Q1w4Ryyi8KNxxaFlOQClK   \n",
       "3                                       NaN  49fT6owWuknekShh9utsjv   \n",
       "4      1a826083-5585-445f-a708-415dc90aa050  6DoXuH326aAYEN8CnlLmhP   \n",
       "...                                     ...                     ...   \n",
       "16792                                   NaN  1AePjgLLtzF0abbfcgYdLI   \n",
       "16793                                   NaN  1Gn0oYQiQHp7KF4DcR2g4t   \n",
       "16794  7ea228f9-16d0-474d-8c51-5a1a9810ddde  6YG8cjbrjhDhlYMiQnibUD   \n",
       "16795                                   NaN                     NaN   \n",
       "16796  16c3d394-c4d4-4dc2-bbf1-b2bef3ac861c  4fVObxldDzxxRD6a5Eth9s   \n",
       "\n",
       "            genre                                              Lyric language  \n",
       "0           metal  Saint Anger 'round my neck\\nSaint Anger 'round...       en  \n",
       "1         hip-hop  Road runner, road runner\\nGoing hundred mile p...       en  \n",
       "2           metal  Come!\\n\\nIf our own lives aren’t directly affe...       en  \n",
       "3         hip-hop  Ayy, y'all heard about the good news?\\nY'all s...       en  \n",
       "4        nu metal  I'll never be the same, breaking decency\\nDon'...       en  \n",
       "...           ...                                                ...      ...  \n",
       "16792       chill  You're floating out astray\\nThis cold and life...       en  \n",
       "16793         NaN  I'm looking at you\\nBut It's only a picture so...       en  \n",
       "16794       indie  \\n\\n\\nWhere do I fit in\\nI am waiting here for...       en  \n",
       "16795  industrial  Wish I were transparent\\nYou could see right t...       en  \n",
       "16796       indie  I CAUGHT HER STARING, A PSYCHEDELIC DANCER,\\nG...       en  \n",
       "\n",
       "[16797 rows x 14 columns]"
      ]
     },
     "execution_count": 5,
     "metadata": {},
     "output_type": "execute_result"
    }
   ],
   "source": [
    "import pandas as pd\n",
    "data = pd.read_csv('out.csv')\n",
    "data"
   ]
  },
  {
   "cell_type": "markdown",
   "id": "43d065fa-f42b-4d43-87f8-87817ca2f7e5",
   "metadata": {},
   "source": [
    "## Preprocess Lyrics"
   ]
  },
  {
   "cell_type": "code",
   "execution_count": 6,
   "id": "27fe8ede-e385-4a70-9faa-0f9218c3ec81",
   "metadata": {},
   "outputs": [],
   "source": [
    "data['word-len'] = data['Lyric'].apply(lambda i: len(i.split(' ')))"
   ]
  },
  {
   "cell_type": "code",
   "execution_count": 7,
   "id": "9cf3c267-5d47-4895-833c-35654147c664",
   "metadata": {},
   "outputs": [
    {
     "data": {
      "text/plain": [
       "<AxesSubplot: >"
      ]
     },
     "execution_count": 7,
     "metadata": {},
     "output_type": "execute_result"
    },
    {
     "data": {
      "image/png": "[encoded data removed]",
      "text/plain": [
       "<Figure size 640x480 with 1 Axes>"
      ]
     },
     "metadata": {},
     "output_type": "display_data"
    }
   ],
   "source": [
    "data['word-len'].hist(bins=20)"
   ]
  },
  {
   "cell_type": "code",
   "execution_count": 8,
   "id": "06c5a0c3-3b98-4d61-8666-29843935f87c",
   "metadata": {},
   "outputs": [],
   "source": [
    "CUTOFF = int(data['word-len'].mean() + data['word-len'].std())"
   ]
  },
  {
   "cell_type": "code",
   "execution_count": 9,
   "id": "ab0fb342-09d5-43e2-9807-0a77fe971d79",
   "metadata": {},
   "outputs": [],
   "source": [
    "import re\n",
    "data['no-punct'] = data['Lyric'].apply(lambda i: re.sub(r'[^\\w\\s]', '', i))\n",
    "data['no-punct'] = data['no-punct'].apply(lambda i: i.lower())\n",
    "data['words-split'] = data['no-punct'].apply(lambda i: re.split(' |\\n', i))\n",
    "data['words-split'] = data['words-split'].apply(lambda i: [j for j in i if j])"
   ]
  },
  {
   "cell_type": "code",
   "execution_count": 10,
   "id": "343f9ae6-42b3-4e1a-88b5-913058aeabf0",
   "metadata": {},
   "outputs": [
    {
     "data": {
      "text/plain": [
       "0    [saint, anger, round, my, neck, saint, anger, ...\n",
       "1    [road, runner, road, runner, going, hundred, m...\n",
       "2    [come, if, our, own, lives, arent, directly, a...\n",
       "3    [ayy, yall, heard, about, the, good, news, yal...\n",
       "4    [ill, never, be, the, same, breaking, decency,...\n",
       "Name: words-split, dtype: object"
      ]
     },
     "execution_count": 10,
     "metadata": {},
     "output_type": "execute_result"
    }
   ],
   "source": [
    "data['words-split'].head()"
   ]
  },
  {
   "cell_type": "code",
   "execution_count": 11,
   "id": "bf3bfb87-190c-44d7-aecb-87ab288906e5",
   "metadata": {},
   "outputs": [],
   "source": [
    "# Normalize sequence length\n",
    "data['trimmed'] = data['words-split'].apply(lambda i: i[:CUTOFF] if len(i) > CUTOFF else i)\n",
    "data['padded'] = data['trimmed'].apply(lambda i: i + [''] * (CUTOFF - len(i)))"
   ]
  },
  {
   "cell_type": "code",
   "execution_count": 12,
   "id": "5ba5b109-ac85-443c-84ef-a28e8cb2219e",
   "metadata": {},
   "outputs": [
    {
     "name": "stderr",
     "output_type": "stream",
     "text": [
      "100%|██████████████████████████████████████████████████████████████████████████████████████████████████████████████████████████████████████████████████████████████████████████| 16797/16797 [00:25<00:00, 656.15it/s]\n"
     ]
    },
    {
     "data": {
      "text/plain": [
       "(16797, 329, 302)"
      ]
     },
     "execution_count": 12,
     "metadata": {},
     "output_type": "execute_result"
    }
   ],
   "source": [
    "tqdm.pandas()\n",
    "encodings = np.stack(data['padded'].progress_apply(lambda i: np.stack([vectorize(j) for j in i])))\n",
    "encodings.shape"
   ]
  },
  {
   "cell_type": "markdown",
   "id": "e59c7f1e-da22-463d-a39a-414ea703dc6d",
   "metadata": {},
   "source": [
    "## Preprocess Tags"
   ]
  },
  {
   "cell_type": "code",
   "execution_count": 13,
   "id": "0240ae66-8ed2-4236-804f-9cc29d1e26e7",
   "metadata": {},
   "outputs": [],
   "source": [
    "data['seeds'] = data['seeds'].apply(lambda i: eval(i))"
   ]
  },
  {
   "cell_type": "code",
   "execution_count": 14,
   "id": "56c233d2-5059-473e-9a34-b0e0be028b3f",
   "metadata": {},
   "outputs": [
    {
     "data": {
      "text/plain": [
       "1.4778234208489611"
      ]
     },
     "execution_count": 14,
     "metadata": {},
     "output_type": "execute_result"
    }
   ],
   "source": [
    "data['seeds'].apply(len).mean()"
   ]
  },
  {
   "cell_type": "code",
   "execution_count": 21,
   "id": "78396f59-747e-49b1-bd65-55b6d03adf6e",
   "metadata": {},
   "outputs": [],
   "source": [
    "from sklearn.preprocessing import MultiLabelBinarizer\n",
    "enc = MultiLabelBinarizer()\n",
    "enc.fit(data['seeds'])\n",
    "encoded_tags = enc.transform(data['seeds'])"
   ]
  },
  {
   "cell_type": "code",
   "execution_count": 16,
   "id": "2f5a2f3b-4243-4804-9842-72784c315ac1",
   "metadata": {},
   "outputs": [
    {
     "data": {
      "text/plain": [
       "(16797, 264)"
      ]
     },
     "execution_count": 16,
     "metadata": {},
     "output_type": "execute_result"
    }
   ],
   "source": [
    "encoded_tags.shape"
   ]
  },
  {
   "cell_type": "code",
   "execution_count": 17,
   "id": "88b05cb7-492e-4c1d-a799-bd1b611c95e8",
   "metadata": {},
   "outputs": [
    {
     "data": {
      "text/plain": [
       "48.0"
      ]
     },
     "execution_count": 17,
     "metadata": {},
     "output_type": "execute_result"
    },
    {
     "data": {
      "image/png": "[encoded data removed]",
      "text/plain": [
       "<Figure size 640x480 with 1 Axes>"
      ]
     },
     "metadata": {},
     "output_type": "display_data"
    }
   ],
   "source": [
    "counts = np.sum(encoded_tags, axis=0)\n",
    "\n",
    "import matplotlib.pyplot as plt\n",
    "plt.hist(counts)\n",
    "np.median(counts)"
   ]
  },
  {
   "cell_type": "code",
   "execution_count": 22,
   "id": "4d1954bb-d07a-4c8d-a71a-4be52d81be0c",
   "metadata": {},
   "outputs": [],
   "source": [
    "LABEL_FREQ_THRESH = encoded_tags.shape[0] * .02\n",
    "y_names = enc.classes_[counts >= LABEL_FREQ_THRESH]"
   ]
  },
  {
   "cell_type": "code",
   "execution_count": 19,
   "id": "0067ea3e-d4b7-48fb-a756-83433e2a696d",
   "metadata": {},
   "outputs": [
    {
     "data": {
      "text/plain": [
       "(16797, 12)"
      ]
     },
     "execution_count": 19,
     "metadata": {},
     "output_type": "execute_result"
    }
   ],
   "source": [
    "indices_to_keep = np.arange(counts.shape[0])[counts >= LABEL_FREQ_THRESH]\n",
    "encoded_tags_trimmed = encoded_tags[:, indices_to_keep]\n",
    "encoded_tags_trimmed.shape"
   ]
  },
  {
   "cell_type": "markdown",
   "id": "41eea72d-6a09-41f5-a87b-30645e2a62ce",
   "metadata": {},
   "source": [
    "## Model"
   ]
  },
  {
   "cell_type": "code",
   "execution_count": 38,
   "id": "2e8d43bb-b59d-4d90-aae9-7277fc799939",
   "metadata": {},
   "outputs": [],
   "source": [
    "import tensorflow as tf\n",
    "\n",
    "def build_model():\n",
    "    in_size = 302\n",
    "    out_size = encoded_tags.shape[1]\n",
    "\n",
    "    inputs = tf.keras.layers.Input((CUTOFF, in_size))\n",
    "    x = tf.keras.layers.Dense(10)(inputs)\n",
    "    # x = tf.keras.layers.Reshape((*x.shape[1:], 1))(x)\n",
    "    # x = tf.keras.layers.Conv2D(100, 25, activation='relu')(x)\n",
    "    # x = tf.keras.layers.MaxPool2D()(x)\n",
    "    x = tf.keras.layers.Flatten()(x)\n",
    "    x = tf.keras.layers.Dense(out_size, activation='relu')(x)\n",
    "    x = tf.keras.layers.Dropout(rate=.1)(x)\n",
    "    # x = tf.keras.layers.Dense(out_size, activation='relu')(x)\n",
    "    outputs = tf.keras.layers.Dense(1, activation='sigmoid')(x)\n",
    "    model = tf.keras.Model(inputs=inputs, outputs=outputs)\n",
    "    model.compile(optimizer='adam', loss='binary_crossentropy', metrics=['accuracy'])\n",
    "    return model"
   ]
  },
  {
   "cell_type": "code",
   "execution_count": 39,
   "id": "894c6507-25ba-4995-b2b8-bd7d26cd4ce1",
   "metadata": {},
   "outputs": [
    {
     "name": "stdout",
     "output_type": "stream",
     "text": [
      "Model: \"model\"\n",
      "_________________________________________________________________\n",
      " Layer (type)                Output Shape              Param #   \n",
      "=================================================================\n",
      " input_1 (InputLayer)        [(None, 329, 302)]        0         \n",
      "                                                                 \n",
      " dense (Dense)               (None, 329, 10)           3030      \n",
      "                                                                 \n",
      " flatten (Flatten)           (None, 3290)              0         \n",
      "                                                                 \n",
      " dense_1 (Dense)             (None, 264)               868824    \n",
      "                                                                 \n",
      " dropout (Dropout)           (None, 264)               0         \n",
      "                                                                 \n",
      " dense_2 (Dense)             (None, 1)                 265       \n",
      "                                                                 \n",
      "=================================================================\n",
      "Total params: 872,119\n",
      "Trainable params: 872,119\n",
      "Non-trainable params: 0\n",
      "_________________________________________________________________\n"
     ]
    }
   ],
   "source": [
    "build_model().summary()"
   ]
  },
  {
   "cell_type": "code",
   "execution_count": 40,
   "id": "e6faad8c-257a-48d0-9340-0d9c9f5a87b6",
   "metadata": {
    "scrolled": true,
    "tags": []
   },
   "outputs": [],
   "source": [
    "import imblearn\n",
    "\n",
    "def validate(model, x_val, y_val):\n",
    "    orig_shape = x_val.shape\n",
    "    x_val_flat = x_val.reshape((x_val.shape[0], x_val.shape[1] * x_val.shape[2]))\n",
    "    under_sampler = imblearn.under_sampling.RandomUnderSampler(sampling_strategy=1.0)\n",
    "    x_val_res, y_val_res = under_sampler.fit_resample(x_val_flat, y_val)\n",
    "    x_val_res = x_val_res.reshape(x_val_res.shape[0], *orig_shape[1:])\n",
    "    model.evaluate(x_val_res, y_val_res, batch_size=100)\n",
    "\n",
    "def train_binary_classifier(orig_shape, flat_encodings, x_val, y, y_val, y_names, batch_size, epochs_per_model, \n",
    "                            undersampling_strat, n_jobs):\n",
    "    # Undersampling\n",
    "    under_sampler = imblearn.under_sampling.RandomUnderSampler(sampling_strategy=undersampling_strat)\n",
    "    encodings_res, tags_res = under_sampler.fit_resample(flat_encodings, y)\n",
    "\n",
    "    # Oversampling\n",
    "    over_sampler = imblearn.over_sampling.BorderlineSMOTE(sampling_strategy=1.0, n_jobs=n_jobs)\n",
    "    encodings_res, tags_res = over_sampler.fit_resample(encodings_res, tags_res)\n",
    "\n",
    "    # Reshape\n",
    "    encodings_res = encodings_res.reshape(encodings_res.shape[0], *orig_shape[1:])\n",
    "\n",
    "    model = build_model()\n",
    "    val_loss_history = []\n",
    "    for i in range(epochs_per_model):\n",
    "        print(f'Epoch {i + 1} of {epochs_per_model}:')\n",
    "        history = model.fit(encodings_res, tags_res, validation_data=(x_val, y_val), batch_size=batch_size, shuffle=True)\n",
    "        val_loss_history.append(history.history['val_loss'][0])\n",
    "        if len(val_loss_history) > 1 and val_loss_history[-1] > val_loss_history[-2]:\n",
    "            print('Early stop point reached!')\n",
    "            break\n",
    "        validate(model, x_val, y_val)\n",
    "    return model\n",
    "\n",
    "def train_models(x, x_val, y, y_val, y_names):\n",
    "    orig_shape = x.shape\n",
    "    flat_encodings = x.reshape((orig_shape[0], orig_shape[1] * orig_shape[2]))\n",
    "    models = []\n",
    "\n",
    "    for i in range(y.shape[1]):\n",
    "        print(f'Training model {i + 1} of {y.shape[1]}:')\n",
    "        model = train_binary_classifier(orig_shape, flat_encodings, x_val, y[:, i], y_val[:, i], y_names,\n",
    "                                        batch_size=100, epochs_per_model=25, undersampling_strat=.25, n_jobs=7)\n",
    "        model.save(f'demo-tags/{y_names[i]}')\n",
    "        models.append(model)\n",
    "    return models"
   ]
  },
  {
   "cell_type": "code",
   "execution_count": null,
   "id": "492ba16a-93c6-41ff-8c0e-9eb35715754d",
   "metadata": {},
   "outputs": [],
   "source": [
    "from sklearn.model_selection import train_test_split\n",
    "x_train, x_val, y_train, y_val = train_test_split(encodings, encoded_tags_trimmed, test_size=.1)"
   ]
  },
  {
   "cell_type": "code",
   "execution_count": 29,
   "id": "b682c3e8-c368-4125-9df8-526596ab20f6",
   "metadata": {
    "scrolled": true,
    "tags": []
   },
   "outputs": [
    {
     "name": "stdout",
     "output_type": "stream",
     "text": [
      "Training model 1 of 12:\n"
     ]
    },
    {
     "name": "stderr",
     "output_type": "stream",
     "text": [
      "/Users/NikhilKalidasu/miniforge3/envs/tensorflow/lib/python3.10/site-packages/imblearn/over_sampling/_smote/filter.py:192: FutureWarning: The parameter `n_jobs` has been deprecated in 0.10 and will be removed in 0.12. You can pass an nearest neighbors estimator where `n_jobs` is already set instead.\n",
      "  warnings.warn(\n"
     ]
    },
    {
     "name": "stdout",
     "output_type": "stream",
     "text": [
      "Epoch 1 of 25:\n"
     ]
    },
    {
     "name": "stderr",
     "output_type": "stream",
     "text": [
      "2023-03-08 20:24:25.888895: I tensorflow/core/grappler/optimizers/custom_graph_optimizer_registry.cc:114] Plugin optimizer for device_type GPU is enabled.\n"
     ]
    },
    {
     "name": "stdout",
     "output_type": "stream",
     "text": [
      "29/29 [==============================] - ETA: 0s - loss: 0.6281 - accuracy: 0.6478"
     ]
    },
    {
     "name": "stderr",
     "output_type": "stream",
     "text": [
      "2023-03-08 20:24:30.788529: I tensorflow/core/grappler/optimizers/custom_graph_optimizer_registry.cc:114] Plugin optimizer for device_type GPU is enabled.\n"
     ]
    },
    {
     "name": "stdout",
     "output_type": "stream",
     "text": [
      "29/29 [==============================] - 5s 179ms/step - loss: 0.6281 - accuracy: 0.6478 - val_loss: 0.6438 - val_accuracy: 0.5667\n",
      "1/1 [==============================] - 0s 68ms/step - loss: 0.7145 - accuracy: 0.5135\n",
      "Epoch 2 of 25:\n",
      "29/29 [==============================] - 3s 109ms/step - loss: 0.4165 - accuracy: 0.8291 - val_loss: 0.4385 - val_accuracy: 0.8208\n",
      "1/1 [==============================] - 0s 35ms/step - loss: 0.9127 - accuracy: 0.5541\n",
      "Epoch 3 of 25:\n",
      "29/29 [==============================] - 3s 106ms/step - loss: 0.2547 - accuracy: 0.9137 - val_loss: 0.3773 - val_accuracy: 0.8560\n",
      "1/1 [==============================] - 0s 31ms/step - loss: 1.1861 - accuracy: 0.5135\n",
      "Epoch 4 of 25:\n",
      "29/29 [==============================] - 1s 49ms/step - loss: 0.1518 - accuracy: 0.9582 - val_loss: 0.3129 - val_accuracy: 0.8815\n",
      "1/1 [==============================] - 0s 30ms/step - loss: 1.4008 - accuracy: 0.5405\n",
      "Epoch 5 of 25:\n",
      "29/29 [==============================] - 2s 73ms/step - loss: 0.0904 - accuracy: 0.9793 - val_loss: 0.3553 - val_accuracy: 0.8643\n",
      "Early stop point reached!\n",
      "INFO:tensorflow:Assets written to: demo-tags/angry/assets\n",
      "Training model 2 of 12:\n"
     ]
    },
    {
     "name": "stderr",
     "output_type": "stream",
     "text": [
      "/Users/NikhilKalidasu/miniforge3/envs/tensorflow/lib/python3.10/site-packages/imblearn/over_sampling/_smote/filter.py:192: FutureWarning: The parameter `n_jobs` has been deprecated in 0.10 and will be removed in 0.12. You can pass an nearest neighbors estimator where `n_jobs` is already set instead.\n",
      "  warnings.warn(\n"
     ]
    },
    {
     "name": "stdout",
     "output_type": "stream",
     "text": [
      "Epoch 1 of 25:\n"
     ]
    },
    {
     "name": "stderr",
     "output_type": "stream",
     "text": [
      "2023-03-08 20:25:01.724817: I tensorflow/core/grappler/optimizers/custom_graph_optimizer_registry.cc:114] Plugin optimizer for device_type GPU is enabled.\n"
     ]
    },
    {
     "name": "stdout",
     "output_type": "stream",
     "text": [
      "25/25 [==============================] - ETA: 0s - loss: 0.6274 - accuracy: 0.6533"
     ]
    },
    {
     "name": "stderr",
     "output_type": "stream",
     "text": [
      "2023-03-08 20:25:04.771903: I tensorflow/core/grappler/optimizers/custom_graph_optimizer_registry.cc:114] Plugin optimizer for device_type GPU is enabled.\n"
     ]
    },
    {
     "name": "stdout",
     "output_type": "stream",
     "text": [
      "25/25 [==============================] - 4s 134ms/step - loss: 0.6274 - accuracy: 0.6533 - val_loss: 0.4289 - val_accuracy: 0.8577\n",
      "1/1 [==============================] - 0s 71ms/step - loss: 0.9439 - accuracy: 0.5185\n",
      "Epoch 2 of 25:\n",
      "25/25 [==============================] - 2s 81ms/step - loss: 0.4356 - accuracy: 0.8091 - val_loss: 0.4413 - val_accuracy: 0.7780\n",
      "Early stop point reached!\n",
      "INFO:tensorflow:Assets written to: demo-tags/bittersweet/assets\n",
      "Training model 3 of 12:\n"
     ]
    },
    {
     "name": "stderr",
     "output_type": "stream",
     "text": [
      "/Users/NikhilKalidasu/miniforge3/envs/tensorflow/lib/python3.10/site-packages/imblearn/over_sampling/_smote/filter.py:192: FutureWarning: The parameter `n_jobs` has been deprecated in 0.10 and will be removed in 0.12. You can pass an nearest neighbors estimator where `n_jobs` is already set instead.\n",
      "  warnings.warn(\n"
     ]
    },
    {
     "name": "stdout",
     "output_type": "stream",
     "text": [
      "Epoch 1 of 25:\n"
     ]
    },
    {
     "name": "stderr",
     "output_type": "stream",
     "text": [
      "2023-03-08 20:25:21.696391: I tensorflow/core/grappler/optimizers/custom_graph_optimizer_registry.cc:114] Plugin optimizer for device_type GPU is enabled.\n"
     ]
    },
    {
     "name": "stdout",
     "output_type": "stream",
     "text": [
      "30/30 [==============================] - ETA: 0s - loss: 0.6252 - accuracy: 0.6444"
     ]
    },
    {
     "name": "stderr",
     "output_type": "stream",
     "text": [
      "2023-03-08 20:25:24.041307: I tensorflow/core/grappler/optimizers/custom_graph_optimizer_registry.cc:114] Plugin optimizer for device_type GPU is enabled.\n"
     ]
    },
    {
     "name": "stdout",
     "output_type": "stream",
     "text": [
      "30/30 [==============================] - 3s 84ms/step - loss: 0.6252 - accuracy: 0.6444 - val_loss: 0.4331 - val_accuracy: 0.7976\n",
      "1/1 [==============================] - 0s 79ms/step - loss: 0.8477 - accuracy: 0.5385\n",
      "Epoch 2 of 25:\n",
      "30/30 [==============================] - 2s 72ms/step - loss: 0.4722 - accuracy: 0.7683 - val_loss: 0.5201 - val_accuracy: 0.7101\n",
      "Early stop point reached!\n",
      "INFO:tensorflow:Assets written to: demo-tags/dark/assets\n",
      "Training model 4 of 12:\n"
     ]
    },
    {
     "name": "stderr",
     "output_type": "stream",
     "text": [
      "/Users/NikhilKalidasu/miniforge3/envs/tensorflow/lib/python3.10/site-packages/imblearn/over_sampling/_smote/filter.py:192: FutureWarning: The parameter `n_jobs` has been deprecated in 0.10 and will be removed in 0.12. You can pass an nearest neighbors estimator where `n_jobs` is already set instead.\n",
      "  warnings.warn(\n"
     ]
    },
    {
     "name": "stdout",
     "output_type": "stream",
     "text": [
      "Epoch 1 of 25:\n"
     ]
    },
    {
     "name": "stderr",
     "output_type": "stream",
     "text": [
      "2023-03-08 20:25:37.530148: I tensorflow/core/grappler/optimizers/custom_graph_optimizer_registry.cc:114] Plugin optimizer for device_type GPU is enabled.\n"
     ]
    },
    {
     "name": "stdout",
     "output_type": "stream",
     "text": [
      "28/28 [==============================] - ETA: 0s - loss: 0.6040 - accuracy: 0.6904"
     ]
    },
    {
     "name": "stderr",
     "output_type": "stream",
     "text": [
      "2023-03-08 20:25:40.151337: I tensorflow/core/grappler/optimizers/custom_graph_optimizer_registry.cc:114] Plugin optimizer for device_type GPU is enabled.\n"
     ]
    },
    {
     "name": "stdout",
     "output_type": "stream",
     "text": [
      "28/28 [==============================] - 3s 101ms/step - loss: 0.6040 - accuracy: 0.6904 - val_loss: 0.4176 - val_accuracy: 0.8470\n",
      "1/1 [==============================] - 0s 69ms/step - loss: 0.8253 - accuracy: 0.5143\n",
      "Epoch 2 of 25:\n",
      "28/28 [==============================] - 2s 87ms/step - loss: 0.3879 - accuracy: 0.8472 - val_loss: 0.5983 - val_accuracy: 0.6649\n",
      "Early stop point reached!\n",
      "INFO:tensorflow:Assets written to: demo-tags/dreamy/assets\n",
      "Training model 5 of 12:\n"
     ]
    },
    {
     "name": "stderr",
     "output_type": "stream",
     "text": [
      "/Users/NikhilKalidasu/miniforge3/envs/tensorflow/lib/python3.10/site-packages/imblearn/over_sampling/_smote/filter.py:192: FutureWarning: The parameter `n_jobs` has been deprecated in 0.10 and will be removed in 0.12. You can pass an nearest neighbors estimator where `n_jobs` is already set instead.\n",
      "  warnings.warn(\n"
     ]
    },
    {
     "name": "stdout",
     "output_type": "stream",
     "text": [
      "Epoch 1 of 25:\n"
     ]
    },
    {
     "name": "stderr",
     "output_type": "stream",
     "text": [
      "2023-03-08 20:25:59.229210: I tensorflow/core/grappler/optimizers/custom_graph_optimizer_registry.cc:114] Plugin optimizer for device_type GPU is enabled.\n"
     ]
    },
    {
     "name": "stdout",
     "output_type": "stream",
     "text": [
      "28/28 [==============================] - ETA: 0s - loss: 0.6006 - accuracy: 0.6620"
     ]
    },
    {
     "name": "stderr",
     "output_type": "stream",
     "text": [
      "2023-03-08 20:26:01.661576: I tensorflow/core/grappler/optimizers/custom_graph_optimizer_registry.cc:114] Plugin optimizer for device_type GPU is enabled.\n"
     ]
    },
    {
     "name": "stdout",
     "output_type": "stream",
     "text": [
      "28/28 [==============================] - 3s 90ms/step - loss: 0.6006 - accuracy: 0.6620 - val_loss: 0.4369 - val_accuracy: 0.8435\n",
      "1/1 [==============================] - 0s 74ms/step - loss: 0.7468 - accuracy: 0.5000\n",
      "Epoch 2 of 25:\n",
      "28/28 [==============================] - 2s 77ms/step - loss: 0.3720 - accuracy: 0.8482 - val_loss: 0.4385 - val_accuracy: 0.7690\n",
      "Early stop point reached!\n",
      "INFO:tensorflow:Assets written to: demo-tags/epic/assets\n",
      "Training model 6 of 12:\n"
     ]
    },
    {
     "name": "stderr",
     "output_type": "stream",
     "text": [
      "/Users/NikhilKalidasu/miniforge3/envs/tensorflow/lib/python3.10/site-packages/imblearn/over_sampling/_smote/filter.py:192: FutureWarning: The parameter `n_jobs` has been deprecated in 0.10 and will be removed in 0.12. You can pass an nearest neighbors estimator where `n_jobs` is already set instead.\n",
      "  warnings.warn(\n"
     ]
    },
    {
     "name": "stdout",
     "output_type": "stream",
     "text": [
      "Epoch 1 of 25:\n"
     ]
    },
    {
     "name": "stderr",
     "output_type": "stream",
     "text": [
      "2023-03-08 20:26:16.558160: I tensorflow/core/grappler/optimizers/custom_graph_optimizer_registry.cc:114] Plugin optimizer for device_type GPU is enabled.\n"
     ]
    },
    {
     "name": "stdout",
     "output_type": "stream",
     "text": [
      "26/26 [==============================] - ETA: 0s - loss: 0.6229 - accuracy: 0.6528"
     ]
    },
    {
     "name": "stderr",
     "output_type": "stream",
     "text": [
      "2023-03-08 20:26:19.074607: I tensorflow/core/grappler/optimizers/custom_graph_optimizer_registry.cc:114] Plugin optimizer for device_type GPU is enabled.\n"
     ]
    },
    {
     "name": "stdout",
     "output_type": "stream",
     "text": [
      "26/26 [==============================] - 3s 104ms/step - loss: 0.6229 - accuracy: 0.6528 - val_loss: 0.4887 - val_accuracy: 0.8304\n",
      "1/1 [==============================] - 0s 23ms/step - loss: 0.8661 - accuracy: 0.4375\n",
      "Epoch 2 of 25:\n",
      "26/26 [==============================] - 2s 83ms/step - loss: 0.4116 - accuracy: 0.8264 - val_loss: 0.6009 - val_accuracy: 0.6839\n",
      "Early stop point reached!\n",
      "INFO:tensorflow:Assets written to: demo-tags/fun/assets\n",
      "Training model 7 of 12:\n"
     ]
    },
    {
     "name": "stderr",
     "output_type": "stream",
     "text": [
      "/Users/NikhilKalidasu/miniforge3/envs/tensorflow/lib/python3.10/site-packages/imblearn/over_sampling/_smote/filter.py:192: FutureWarning: The parameter `n_jobs` has been deprecated in 0.10 and will be removed in 0.12. You can pass an nearest neighbors estimator where `n_jobs` is already set instead.\n",
      "  warnings.warn(\n"
     ]
    },
    {
     "name": "stdout",
     "output_type": "stream",
     "text": [
      "Epoch 1 of 25:\n"
     ]
    },
    {
     "name": "stderr",
     "output_type": "stream",
     "text": [
      "2023-03-08 20:26:36.185135: I tensorflow/core/grappler/optimizers/custom_graph_optimizer_registry.cc:114] Plugin optimizer for device_type GPU is enabled.\n"
     ]
    },
    {
     "name": "stdout",
     "output_type": "stream",
     "text": [
      "32/32 [==============================] - ETA: 0s - loss: 0.6160 - accuracy: 0.6559"
     ]
    },
    {
     "name": "stderr",
     "output_type": "stream",
     "text": [
      "2023-03-08 20:26:38.598190: I tensorflow/core/grappler/optimizers/custom_graph_optimizer_registry.cc:114] Plugin optimizer for device_type GPU is enabled.\n"
     ]
    },
    {
     "name": "stdout",
     "output_type": "stream",
     "text": [
      "32/32 [==============================] - 3s 81ms/step - loss: 0.6160 - accuracy: 0.6559 - val_loss: 0.4810 - val_accuracy: 0.8685\n",
      "1/1 [==============================] - 0s 78ms/step - loss: 0.8628 - accuracy: 0.4651\n",
      "Epoch 2 of 25:\n",
      "32/32 [==============================] - 2s 77ms/step - loss: 0.4272 - accuracy: 0.8101 - val_loss: 0.4387 - val_accuracy: 0.8452\n",
      "1/1 [==============================] - 0s 32ms/step - loss: 1.1915 - accuracy: 0.5233\n",
      "Epoch 3 of 25:\n",
      "32/32 [==============================] - 2s 73ms/step - loss: 0.2735 - accuracy: 0.9059 - val_loss: 0.3894 - val_accuracy: 0.8643\n",
      "1/1 [==============================] - 0s 31ms/step - loss: 1.5861 - accuracy: 0.4884\n",
      "Epoch 4 of 25:\n",
      "32/32 [==============================] - 3s 79ms/step - loss: 0.1761 - accuracy: 0.9462 - val_loss: 0.5292 - val_accuracy: 0.7679\n",
      "Early stop point reached!\n",
      "INFO:tensorflow:Assets written to: demo-tags/happy/assets\n",
      "Training model 8 of 12:\n"
     ]
    },
    {
     "name": "stderr",
     "output_type": "stream",
     "text": [
      "/Users/NikhilKalidasu/miniforge3/envs/tensorflow/lib/python3.10/site-packages/imblearn/over_sampling/_smote/filter.py:192: FutureWarning: The parameter `n_jobs` has been deprecated in 0.10 and will be removed in 0.12. You can pass an nearest neighbors estimator where `n_jobs` is already set instead.\n",
      "  warnings.warn(\n"
     ]
    },
    {
     "name": "stdout",
     "output_type": "stream",
     "text": [
      "Epoch 1 of 25:\n"
     ]
    },
    {
     "name": "stderr",
     "output_type": "stream",
     "text": [
      "2023-03-08 20:27:05.277015: I tensorflow/core/grappler/optimizers/custom_graph_optimizer_registry.cc:114] Plugin optimizer for device_type GPU is enabled.\n"
     ]
    },
    {
     "name": "stdout",
     "output_type": "stream",
     "text": [
      "34/34 [==============================] - ETA: 0s - loss: 0.6017 - accuracy: 0.6832"
     ]
    },
    {
     "name": "stderr",
     "output_type": "stream",
     "text": [
      "2023-03-08 20:27:08.102163: I tensorflow/core/grappler/optimizers/custom_graph_optimizer_registry.cc:114] Plugin optimizer for device_type GPU is enabled.\n"
     ]
    },
    {
     "name": "stdout",
     "output_type": "stream",
     "text": [
      "34/34 [==============================] - 3s 92ms/step - loss: 0.6017 - accuracy: 0.6832 - val_loss: 0.5037 - val_accuracy: 0.6952\n",
      "1/1 [==============================] - 0s 76ms/step - loss: 0.9895 - accuracy: 0.4189\n",
      "Epoch 2 of 25:\n",
      "34/34 [==============================] - 2s 72ms/step - loss: 0.4584 - accuracy: 0.7933 - val_loss: 0.5875 - val_accuracy: 0.6530\n",
      "Early stop point reached!\n",
      "INFO:tensorflow:Assets written to: demo-tags/melancholy/assets\n",
      "Training model 9 of 12:\n"
     ]
    },
    {
     "name": "stderr",
     "output_type": "stream",
     "text": [
      "/Users/NikhilKalidasu/miniforge3/envs/tensorflow/lib/python3.10/site-packages/imblearn/over_sampling/_smote/filter.py:192: FutureWarning: The parameter `n_jobs` has been deprecated in 0.10 and will be removed in 0.12. You can pass an nearest neighbors estimator where `n_jobs` is already set instead.\n",
      "  warnings.warn(\n"
     ]
    },
    {
     "name": "stdout",
     "output_type": "stream",
     "text": [
      "Epoch 1 of 25:\n"
     ]
    },
    {
     "name": "stderr",
     "output_type": "stream",
     "text": [
      "2023-03-08 20:27:26.091219: I tensorflow/core/grappler/optimizers/custom_graph_optimizer_registry.cc:114] Plugin optimizer for device_type GPU is enabled.\n"
     ]
    },
    {
     "name": "stdout",
     "output_type": "stream",
     "text": [
      "33/33 [==============================] - ETA: 0s - loss: 0.6001 - accuracy: 0.6669"
     ]
    },
    {
     "name": "stderr",
     "output_type": "stream",
     "text": [
      "2023-03-08 20:27:28.578293: I tensorflow/core/grappler/optimizers/custom_graph_optimizer_registry.cc:114] Plugin optimizer for device_type GPU is enabled.\n"
     ]
    },
    {
     "name": "stdout",
     "output_type": "stream",
     "text": [
      "33/33 [==============================] - 3s 80ms/step - loss: 0.6001 - accuracy: 0.6669 - val_loss: 0.6733 - val_accuracy: 0.5375\n",
      "1/1 [==============================] - 0s 61ms/step - loss: 0.8936 - accuracy: 0.4444\n",
      "Epoch 2 of 25:\n",
      "33/33 [==============================] - 2s 71ms/step - loss: 0.4567 - accuracy: 0.7820 - val_loss: 0.5310 - val_accuracy: 0.7000\n",
      "1/1 [==============================] - 0s 32ms/step - loss: 1.0032 - accuracy: 0.5000\n",
      "Epoch 3 of 25:\n",
      "33/33 [==============================] - 2s 67ms/step - loss: 0.3405 - accuracy: 0.8642 - val_loss: 0.4645 - val_accuracy: 0.7643\n",
      "1/1 [==============================] - 0s 28ms/step - loss: 1.4200 - accuracy: 0.4667\n",
      "Epoch 4 of 25:\n",
      "33/33 [==============================] - 1s 38ms/step - loss: 0.2305 - accuracy: 0.9132 - val_loss: 0.4979 - val_accuracy: 0.7536\n",
      "Early stop point reached!\n",
      "INFO:tensorflow:Assets written to: demo-tags/mellow/assets\n",
      "Training model 10 of 12:\n"
     ]
    },
    {
     "name": "stderr",
     "output_type": "stream",
     "text": [
      "/Users/NikhilKalidasu/miniforge3/envs/tensorflow/lib/python3.10/site-packages/imblearn/over_sampling/_smote/filter.py:192: FutureWarning: The parameter `n_jobs` has been deprecated in 0.10 and will be removed in 0.12. You can pass an nearest neighbors estimator where `n_jobs` is already set instead.\n",
      "  warnings.warn(\n"
     ]
    },
    {
     "name": "stdout",
     "output_type": "stream",
     "text": [
      "Epoch 1 of 25:\n"
     ]
    },
    {
     "name": "stderr",
     "output_type": "stream",
     "text": [
      "2023-03-08 20:27:51.315840: I tensorflow/core/grappler/optimizers/custom_graph_optimizer_registry.cc:114] Plugin optimizer for device_type GPU is enabled.\n"
     ]
    },
    {
     "name": "stdout",
     "output_type": "stream",
     "text": [
      "28/28 [==============================] - ETA: 0s - loss: 0.6284 - accuracy: 0.6305"
     ]
    },
    {
     "name": "stderr",
     "output_type": "stream",
     "text": [
      "2023-03-08 20:27:54.309636: I tensorflow/core/grappler/optimizers/custom_graph_optimizer_registry.cc:114] Plugin optimizer for device_type GPU is enabled.\n"
     ]
    },
    {
     "name": "stdout",
     "output_type": "stream",
     "text": [
      "28/28 [==============================] - 4s 116ms/step - loss: 0.6284 - accuracy: 0.6305 - val_loss: 0.5894 - val_accuracy: 0.5940\n",
      "1/1 [==============================] - 0s 108ms/step - loss: 0.7244 - accuracy: 0.5698\n",
      "Epoch 2 of 25:\n",
      "28/28 [==============================] - 2s 76ms/step - loss: 0.4455 - accuracy: 0.7996 - val_loss: 0.4879 - val_accuracy: 0.7631\n",
      "1/1 [==============================] - 0s 37ms/step - loss: 0.8049 - accuracy: 0.5814\n",
      "Epoch 3 of 25:\n",
      "28/28 [==============================] - 2s 80ms/step - loss: 0.2949 - accuracy: 0.8939 - val_loss: 0.3884 - val_accuracy: 0.8250\n",
      "1/1 [==============================] - 0s 25ms/step - loss: 1.0472 - accuracy: 0.5233\n",
      "Epoch 4 of 25:\n",
      "28/28 [==============================] - 1s 40ms/step - loss: 0.1922 - accuracy: 0.9453 - val_loss: 0.5151 - val_accuracy: 0.7577\n",
      "Early stop point reached!\n",
      "INFO:tensorflow:Assets written to: demo-tags/romantic/assets\n",
      "Training model 11 of 12:\n"
     ]
    },
    {
     "name": "stderr",
     "output_type": "stream",
     "text": [
      "/Users/NikhilKalidasu/miniforge3/envs/tensorflow/lib/python3.10/site-packages/imblearn/over_sampling/_smote/filter.py:192: FutureWarning: The parameter `n_jobs` has been deprecated in 0.10 and will be removed in 0.12. You can pass an nearest neighbors estimator where `n_jobs` is already set instead.\n",
      "  warnings.warn(\n"
     ]
    },
    {
     "name": "stdout",
     "output_type": "stream",
     "text": [
      "Epoch 1 of 25:\n"
     ]
    },
    {
     "name": "stderr",
     "output_type": "stream",
     "text": [
      "2023-03-08 20:28:20.532740: I tensorflow/core/grappler/optimizers/custom_graph_optimizer_registry.cc:114] Plugin optimizer for device_type GPU is enabled.\n"
     ]
    },
    {
     "name": "stdout",
     "output_type": "stream",
     "text": [
      "32/32 [==============================] - ETA: 0s - loss: 0.6066 - accuracy: 0.6659"
     ]
    },
    {
     "name": "stderr",
     "output_type": "stream",
     "text": [
      "2023-03-08 20:28:23.447306: I tensorflow/core/grappler/optimizers/custom_graph_optimizer_registry.cc:114] Plugin optimizer for device_type GPU is enabled.\n"
     ]
    },
    {
     "name": "stdout",
     "output_type": "stream",
     "text": [
      "32/32 [==============================] - 3s 88ms/step - loss: 0.6066 - accuracy: 0.6659 - val_loss: 0.4273 - val_accuracy: 0.8232\n",
      "1/1 [==============================] - 0s 90ms/step - loss: 0.8616 - accuracy: 0.5000\n",
      "Epoch 2 of 25:\n",
      "32/32 [==============================] - 2s 66ms/step - loss: 0.4036 - accuracy: 0.8214 - val_loss: 0.5561 - val_accuracy: 0.6726\n",
      "Early stop point reached!\n",
      "INFO:tensorflow:Assets written to: demo-tags/sad/assets\n",
      "Training model 12 of 12:\n"
     ]
    },
    {
     "name": "stderr",
     "output_type": "stream",
     "text": [
      "/Users/NikhilKalidasu/miniforge3/envs/tensorflow/lib/python3.10/site-packages/imblearn/over_sampling/_smote/filter.py:192: FutureWarning: The parameter `n_jobs` has been deprecated in 0.10 and will be removed in 0.12. You can pass an nearest neighbors estimator where `n_jobs` is already set instead.\n",
      "  warnings.warn(\n"
     ]
    },
    {
     "name": "stdout",
     "output_type": "stream",
     "text": [
      "Epoch 1 of 25:\n"
     ]
    },
    {
     "name": "stderr",
     "output_type": "stream",
     "text": [
      "2023-03-08 20:28:41.587895: I tensorflow/core/grappler/optimizers/custom_graph_optimizer_registry.cc:114] Plugin optimizer for device_type GPU is enabled.\n"
     ]
    },
    {
     "name": "stdout",
     "output_type": "stream",
     "text": [
      "32/32 [==============================] - ETA: 0s - loss: 0.5843 - accuracy: 0.6756"
     ]
    },
    {
     "name": "stderr",
     "output_type": "stream",
     "text": [
      "2023-03-08 20:28:44.342924: I tensorflow/core/grappler/optimizers/custom_graph_optimizer_registry.cc:114] Plugin optimizer for device_type GPU is enabled.\n"
     ]
    },
    {
     "name": "stdout",
     "output_type": "stream",
     "text": [
      "32/32 [==============================] - 3s 89ms/step - loss: 0.5843 - accuracy: 0.6756 - val_loss: 0.5379 - val_accuracy: 0.8232\n",
      "1/1 [==============================] - 0s 95ms/step - loss: 0.7400 - accuracy: 0.5104\n",
      "Epoch 2 of 25:\n",
      "32/32 [==============================] - 3s 80ms/step - loss: 0.3834 - accuracy: 0.8408 - val_loss: 0.4496 - val_accuracy: 0.8280\n",
      "1/1 [==============================] - 0s 126ms/step - loss: 0.9684 - accuracy: 0.5208\n",
      "Epoch 3 of 25:\n",
      "32/32 [==============================] - 2s 57ms/step - loss: 0.2315 - accuracy: 0.9266 - val_loss: 0.4535 - val_accuracy: 0.8250\n",
      "Early stop point reached!\n",
      "INFO:tensorflow:Assets written to: demo-tags/sexy/assets\n"
     ]
    }
   ],
   "source": [
    "models = train_models(x_train, x_val, y_train, y_val, y_names)"
   ]
  },
  {
   "cell_type": "code",
   "execution_count": 24,
   "id": "f257657d-0cd7-4021-9c3e-4ca642eae437",
   "metadata": {},
   "outputs": [],
   "source": [
    "import tensorflow as tf\n",
    "def load_models(y_names):\n",
    "    return [tf.keras.models.load_model(f'demo-tags/{i}') for i in y_names]"
   ]
  },
  {
   "cell_type": "code",
   "execution_count": 47,
   "id": "ce1fef93-48ee-4d29-af33-029698308796",
   "metadata": {},
   "outputs": [
    {
     "data": {
      "text/plain": [
       "array(['angry', 'bittersweet', 'dark', 'dreamy', 'epic', 'fun', 'happy',\n",
       "       'melancholy', 'mellow', 'romantic', 'sad', 'sexy'], dtype=object)"
      ]
     },
     "execution_count": 47,
     "metadata": {},
     "output_type": "execute_result"
    }
   ],
   "source": [
    "y_names"
   ]
  },
  {
   "cell_type": "code",
   "execution_count": 25,
   "id": "61d0b54f-70cc-4c7e-9a0d-dcccc80626e5",
   "metadata": {},
   "outputs": [
    {
     "name": "stdout",
     "output_type": "stream",
     "text": [
      "Metal device set to: Apple M1 Pro\n"
     ]
    },
    {
     "name": "stderr",
     "output_type": "stream",
     "text": [
      "2023-03-08 22:33:28.911026: I tensorflow/core/common_runtime/pluggable_device/pluggable_device_factory.cc:306] Could not identify NUMA node of platform GPU ID 0, defaulting to 0. Your kernel may not have been built with NUMA support.\n",
      "2023-03-08 22:33:28.911490: I tensorflow/core/common_runtime/pluggable_device/pluggable_device_factory.cc:272] Created TensorFlow device (/job:localhost/replica:0/task:0/device:GPU:0 with 0 MB memory) -> physical PluggableDevice (device: 0, name: METAL, pci bus id: <undefined>)\n"
     ]
    }
   ],
   "source": [
    "models = load_models(y_names)"
   ]
  },
  {
   "cell_type": "markdown",
   "id": "5e56e938-2f11-40af-9f3f-7deece95c42f",
   "metadata": {},
   "source": [
    "## Validation"
   ]
  },
  {
   "cell_type": "code",
   "execution_count": 33,
   "id": "e06ede63-7897-4136-b62a-536e6b971c1d",
   "metadata": {},
   "outputs": [],
   "source": [
    "prop_ones = encodings.shape[0] * .02\n",
    "ones = np.ones(int(prop_ones))\n",
    "zeros = np.zeros(int(encodings.shape[0] - int(prop_ones)))\n",
    "random_labels = np.concatenate([ones, zeros])\n",
    "rng = np.random.default_rng()\n",
    "rng.shuffle(random_labels)  # Generate random array of ones and zeros with correct proportion"
   ]
  },
  {
   "cell_type": "code",
   "execution_count": 43,
   "id": "f3a3cac6-1e54-4226-8ed3-3150e80162b3",
   "metadata": {},
   "outputs": [],
   "source": [
    "from sklearn.model_selection import train_test_split\n",
    "x_train_bogus, x_val_bogus, y_train_bogus, y_val_bogus = train_test_split(encodings, random_labels, test_size=.1)"
   ]
  },
  {
   "cell_type": "code",
   "execution_count": 46,
   "id": "3421c923-f9df-4323-88c0-7dcea5445585",
   "metadata": {},
   "outputs": [
    {
     "name": "stderr",
     "output_type": "stream",
     "text": [
      "/Users/NikhilKalidasu/miniforge3/envs/tensorflow/lib/python3.10/site-packages/imblearn/over_sampling/_smote/filter.py:192: FutureWarning: The parameter `n_jobs` has been deprecated in 0.10 and will be removed in 0.12. You can pass an nearest neighbors estimator where `n_jobs` is already set instead.\n",
      "  warnings.warn(\n"
     ]
    },
    {
     "name": "stdout",
     "output_type": "stream",
     "text": [
      "Epoch 1 of 25:\n"
     ]
    },
    {
     "name": "stderr",
     "output_type": "stream",
     "text": [
      "2023-03-08 22:44:20.850043: I tensorflow/core/grappler/optimizers/custom_graph_optimizer_registry.cc:114] Plugin optimizer for device_type GPU is enabled.\n"
     ]
    },
    {
     "name": "stdout",
     "output_type": "stream",
     "text": [
      "25/25 [==============================] - ETA: 0s - loss: 0.6639 - accuracy: 0.6050"
     ]
    },
    {
     "name": "stderr",
     "output_type": "stream",
     "text": [
      "2023-03-08 22:44:22.110328: I tensorflow/core/grappler/optimizers/custom_graph_optimizer_registry.cc:114] Plugin optimizer for device_type GPU is enabled.\n"
     ]
    },
    {
     "name": "stdout",
     "output_type": "stream",
     "text": [
      "25/25 [==============================] - 2s 55ms/step - loss: 0.6639 - accuracy: 0.6050 - val_loss: 0.6339 - val_accuracy: 0.5946\n",
      "1/1 [==============================] - 0s 55ms/step - loss: 0.7922 - accuracy: 0.4828\n",
      "Epoch 2 of 25:\n",
      "25/25 [==============================] - 1s 60ms/step - loss: 0.4728 - accuracy: 0.7945 - val_loss: 0.4976 - val_accuracy: 0.7554\n",
      "1/1 [==============================] - 0s 24ms/step - loss: 1.0457 - accuracy: 0.4655\n",
      "Epoch 3 of 25:\n",
      "25/25 [==============================] - 2s 79ms/step - loss: 0.3020 - accuracy: 0.8897 - val_loss: 0.5517 - val_accuracy: 0.7208\n",
      "Early stop point reached!\n"
     ]
    }
   ],
   "source": [
    "result = train_binary_classifier(x_train_bogus.shape, x_train_bogus.reshape(x_train_bogus.shape[0], x_train_bogus.shape[1] * x_train_bogus.shape[2]),\n",
    "                        x_val_bogus, y_train_bogus, y_val_bogus, y_names, 100, 25, .25, 7)"
   ]
  },
  {
   "cell_type": "code",
   "execution_count": 90,
   "id": "a4af1b02-7c3c-43f4-b997-2ab934b26f59",
   "metadata": {},
   "outputs": [
    {
     "data": {
      "text/plain": [
       "(1680, 12)"
      ]
     },
     "execution_count": 90,
     "metadata": {},
     "output_type": "execute_result"
    }
   ],
   "source": [
    "y_val.shape"
   ]
  },
  {
   "cell_type": "code",
   "execution_count": 92,
   "id": "94083d85-aa6e-4acf-b1fd-43e9db70d153",
   "metadata": {},
   "outputs": [],
   "source": [
    "mask = y_val[:, 0] == 1"
   ]
  },
  {
   "cell_type": "code",
   "execution_count": 79,
   "id": "7151a454-4493-4c4e-bc15-dfc28baec447",
   "metadata": {},
   "outputs": [
    {
     "data": {
      "text/plain": [
       "4                                    [aggressive, angry]\n",
       "5                            [aggressive, angry, bitter]\n",
       "8                [aggressive, angry, driving, energetic]\n",
       "10                                   [aggressive, angry]\n",
       "24     [aggressive, angry, cold, fun, gritty, warm, f...\n",
       "                             ...                        \n",
       "683                                              [angry]\n",
       "684                                [angry, wry, lyrical]\n",
       "685                                   [angry, cathartic]\n",
       "686                                              [angry]\n",
       "687                                              [angry]\n",
       "Name: seeds, Length: 399, dtype: object"
      ]
     },
     "execution_count": 79,
     "metadata": {},
     "output_type": "execute_result"
    }
   ],
   "source": [
    "data[data['seeds'].apply(lambda i: 'angry' in i)]['seeds']"
   ]
  },
  {
   "cell_type": "code",
   "execution_count": 80,
   "id": "996fcb72-aa08-4f02-a090-a75707f010f8",
   "metadata": {},
   "outputs": [],
   "source": [
    "test_idx = 4\n",
    "to_pred = np.stack([vectorize(i) for i in data['padded'].iloc[test_idx]])\n",
    "to_pred = np.expand_dims(to_pred, axis=0)"
   ]
  },
  {
   "cell_type": "code",
   "execution_count": 74,
   "id": "bca65cc3-d8e4-4a8f-be2d-cb163bb82985",
   "metadata": {},
   "outputs": [
    {
     "data": {
      "text/plain": [
       "['aggressive', 'angry']"
      ]
     },
     "execution_count": 74,
     "metadata": {},
     "output_type": "execute_result"
    }
   ],
   "source": [
    "data.iloc[test_idx]['seeds']"
   ]
  },
  {
   "cell_type": "code",
   "execution_count": 75,
   "id": "2203f606-7e59-44a0-90ff-0ca14af141a5",
   "metadata": {},
   "outputs": [
    {
     "name": "stdout",
     "output_type": "stream",
     "text": [
      "1/1 [==============================] - 0s 15ms/step\n"
     ]
    },
    {
     "data": {
      "text/plain": [
       "array([0.9999521], dtype=float32)"
      ]
     },
     "execution_count": 75,
     "metadata": {},
     "output_type": "execute_result"
    }
   ],
   "source": [
    "model.predict(to_pred)[0]"
   ]
  },
  {
   "cell_type": "code",
   "execution_count": 129,
   "id": "72671f52-6acc-466a-9acf-c5caae2dda0a",
   "metadata": {},
   "outputs": [
    {
     "name": "stdout",
     "output_type": "stream",
     "text": [
      "168/168 [==============================] - 2s 11ms/step\n"
     ]
    }
   ],
   "source": [
    "predictions = model.predict(encodings, batch_size=100)"
   ]
  },
  {
   "cell_type": "code",
   "execution_count": 132,
   "id": "fe6d3a98-650f-4a23-8d52-f8be3a290cd2",
   "metadata": {},
   "outputs": [
    {
     "data": {
      "text/plain": [
       "array([0.07613113], dtype=float32)"
      ]
     },
     "execution_count": 132,
     "metadata": {},
     "output_type": "execute_result"
    }
   ],
   "source": [
    "predictions[0]"
   ]
  },
  {
   "cell_type": "code",
   "execution_count": 34,
   "id": "2bc38ff3-0a60-48e2-bea5-c72b470405df",
   "metadata": {},
   "outputs": [
    {
     "data": {
      "text/plain": [
       "(7.450581e-09, 7.450581e-09, 7.450581e-09)"
      ]
     },
     "execution_count": 34,
     "metadata": {},
     "output_type": "execute_result"
    }
   ],
   "source": [
    "predictions[:, 0].std(), predictions[:, 1].std(), predictions[:, 2].std()"
   ]
  },
  {
   "cell_type": "code",
   "execution_count": 36,
   "id": "29329087-046b-46c2-89d3-d9645ef8fc96",
   "metadata": {},
   "outputs": [],
   "source": [
    "# import matplotlib.pyplot as plt\n",
    "\n",
    "# rng = np.random.default_rng()\n",
    "# sample = rng.integers(len(data), size=100)\n",
    "\n",
    "# to_pred = data['padded'].iloc[sample]\n",
    "# to_pred = np.stack([enc.transform(i) for i in to_pred])\n",
    "# x = np.stack([i.toarray() for i in to_pred])\n",
    "# pred = model.predict(x, batch_size=100)\n",
    "pred = predictions"
   ]
  },
  {
   "cell_type": "code",
   "execution_count": 38,
   "id": "b602db64-db53-4049-94a6-27ce358da0b3",
   "metadata": {},
   "outputs": [
    {
     "data": {
      "text/plain": [
       "-0.001694765315293223"
      ]
     },
     "execution_count": 38,
     "metadata": {},
     "output_type": "execute_result"
    }
   ],
   "source": [
    "from sklearn.metrics import r2_score\n",
    "valence_lbls = data['arousal_norm'].to_numpy()\n",
    "r2_score(valence_lbls, pred[:, 1])"
   ]
  },
  {
   "cell_type": "code",
   "execution_count": 39,
   "id": "33917b16-2416-4f6f-83af-2f31389ee62e",
   "metadata": {},
   "outputs": [
    {
     "data": {
      "text/plain": [
       "Text(0.5, 1.0, 'Valence Prediction Performance')"
      ]
     },
     "execution_count": 39,
     "metadata": {},
     "output_type": "execute_result"
    },
    {
     "data": {
      "image/png": "[encoded data removed]",
      "text/plain": [
       "<Figure size 640x480 with 1 Axes>"
      ]
     },
     "metadata": {},
     "output_type": "display_data"
    }
   ],
   "source": [
    "valence_true = data['valence_norm']\n",
    "valence_pred = pred[:, 0]\n",
    "plt.scatter(valence_pred, valence_true)\n",
    "plt.xlabel('Predicted Valence')\n",
    "plt.ylabel('True Valence')\n",
    "plt.title('Valence Prediction Performance')"
   ]
  },
  {
   "cell_type": "code",
   "execution_count": 40,
   "id": "0fe455ca-144a-4931-9748-7c10bc8abdbe",
   "metadata": {},
   "outputs": [
    {
     "data": {
      "text/plain": [
       "Text(0.5, 1.0, 'Arousal Prediction Performance')"
      ]
     },
     "execution_count": 40,
     "metadata": {},
     "output_type": "execute_result"
    },
    {
     "data": {
      "image/png": "[encoded data removed]",
      "text/plain": [
       "<Figure size 640x480 with 1 Axes>"
      ]
     },
     "metadata": {},
     "output_type": "display_data"
    }
   ],
   "source": [
    "arousal_true = data['arousal_tags']\n",
    "arousal_pred = pred[:, 1]\n",
    "plt.scatter(arousal_pred, arousal_true)\n",
    "plt.xlabel('Predicted Arousal')\n",
    "plt.ylabel('True Arousal')\n",
    "plt.title('Arousal Prediction Performance')"
   ]
  },
  {
   "cell_type": "code",
   "execution_count": 41,
   "id": "89240bdd-bec3-48b3-9eb7-bfedd062d23e",
   "metadata": {},
   "outputs": [
    {
     "data": {
      "text/plain": [
       "Text(0.5, 1.0, 'Dominance Prediction Performance')"
      ]
     },
     "execution_count": 41,
     "metadata": {},
     "output_type": "execute_result"
    },
    {
     "data": {
      "image/png": "[encoded data removed]",
      "text/plain": [
       "<Figure size 640x480 with 1 Axes>"
      ]
     },
     "metadata": {},
     "output_type": "display_data"
    }
   ],
   "source": [
    "dominance_true = data['dominance_tags']\n",
    "dominance_pred = pred[:, 2]\n",
    "plt.scatter(dominance_pred, dominance_true)\n",
    "plt.xlabel('Predicted Dominance')\n",
    "plt.ylabel('True Dominance')\n",
    "plt.title('Dominance Prediction Performance')"
   ]
  },
  {
   "cell_type": "code",
   "execution_count": null,
   "id": "46ac89a0-cecb-4971-8d53-4333642ac11a",
   "metadata": {},
   "outputs": [],
   "source": []
  }
 ],
 "metadata": {
  "kernelspec": {
   "display_name": "Python 3 (ipykernel)",
   "language": "python",
   "name": "python3"
  },
  "language_info": {
   "codemirror_mode": {
    "name": "ipython",
    "version": 3
   },
   "file_extension": ".py",
   "mimetype": "text/x-python",
   "name": "python",
   "nbconvert_exporter": "python",
   "pygments_lexer": "ipython3",
   "version": "3.10.6"
  }
 },
 "nbformat": 4,
 "nbformat_minor": 5
}
