{
 "cells": [
  {
   "cell_type": "markdown",
   "id": "805124b9-64c0-45a5-947a-c9cb3a51e233",
   "metadata": {},
   "source": [
    "# Demo App"
   ]
  },
  {
   "cell_type": "code",
   "execution_count": 1,
   "id": "6acfb020-59ca-4f85-8d68-734b67167ca3",
   "metadata": {},
   "outputs": [
    {
     "name": "stderr",
     "output_type": "stream",
     "text": [
      "100%|██████████████████████████████████████████████████████████████████████████████████████████████████████████████████████████████████████████████████████████████████████| 100000/100000 [00:04<00:00, 22694.76it/s]\n",
      "2023-03-08 23:46:13.958614: I tensorflow/core/common_runtime/pluggable_device/pluggable_device_factory.cc:306] Could not identify NUMA node of platform GPU ID 0, defaulting to 0. Your kernel may not have been built with NUMA support.\n",
      "2023-03-08 23:46:13.958761: I tensorflow/core/common_runtime/pluggable_device/pluggable_device_factory.cc:272] Created TensorFlow device (/job:localhost/replica:0/task:0/device:GPU:0 with 0 MB memory) -> physical PluggableDevice (device: 0, name: METAL, pci bus id: <undefined>)\n"
     ]
    },
    {
     "name": "stdout",
     "output_type": "stream",
     "text": [
      "Metal device set to: Apple M1 Pro\n"
     ]
    }
   ],
   "source": [
    "from multimodel_classifier import MultimodelClassifier\n",
    "classifier = MultimodelClassifier()"
   ]
  },
  {
   "cell_type": "code",
   "execution_count": 29,
   "id": "926dbd1b-d887-4f13-9ea1-7ad3a5ae69cb",
   "metadata": {},
   "outputs": [],
   "source": [
    "LYRICS = \"\"\"\n",
    "Seneler sürer her günüm\n",
    "Ooh yeah, ooh yeah, ooh yeah, ooh yeah, ooh yeah\n",
    "Yalnız gitmekten yorgunum\n",
    "Ooh yeah, ooh yeah, ooh yeah, ooh yeah\n",
    "Seneler sürer her günüm\n",
    "Ooh yeah, ooh yeah, ooh yeah, ooh yeah, ooh yeah\n",
    "Yalnız gitmekten yorgunum\n",
    "Ooh yeah, ooh yeah, ooh yeah, ooh yeah, ooh yeah\n",
    "\n",
    "I usually love sleeping all alone\n",
    "This time around, bring your friend with you\n",
    "But we ain't really gonna sleep at all\n",
    "You ain't gon' catch me with them sneak pictures, sneak pictures\n",
    "In my city, I'm a young God\n",
    "That pussy kill be so vicious\n",
    "My God white, he in my pocket\n",
    "He get me redder than the devil 'til I go nauseous (Oh)\n",
    "\n",
    "She asked me if I do this every day, I said, \"Often\"\n",
    "Asked how many times she rode the wave, \"Not so often\" (Baby)\n",
    "Bitches down to do it either way, often\n",
    "Baby, I can make that pussy rain, often\n",
    "Often, often, girl, I do this often\n",
    "Make that pussy poppin', do it how I want it\n",
    "Often, often, girl, I do this often\n",
    "Make that pussy poppin', do it how I want it\n",
    "Often\n",
    "\n",
    "Infatuated by the fame status\n",
    "She wanna ride inside the G-Class grey 'matic (Oh)\n",
    "I come around, she leave that nigga like he ain't matter\n",
    "That girl been drinkin' all day, need to change bladder\n",
    "She's just happy that the crew's back in town\n",
    "She 'bout to go downtown for a whole hour\n",
    "If I had her, you can have her, man it don't matter\n",
    "I'm never sour, I'm just smokin' somethin' much louder\n",
    "\n",
    "She asked me if I do this every day, I said, \"Often\"\n",
    "Asked how many times she rode the wave, \"Not so often\"\n",
    "Bitches down to do it either way, often\n",
    "Baby, I can make that pussy rain, often\n",
    "(Baby, I can make that pussy rain)\n",
    "Often, often, girl, I do this often\n",
    "Make that pussy poppin', do it how I want it\n",
    "Often, often, girl, I do this often\n",
    "Make that pussy poppin', do it how I want it\n",
    "Often\n",
    "\n",
    "Ooh, the sun's risin' up\n",
    "The night's almost up\n",
    "The night's almost done\n",
    "But I see your eyes\n",
    "You wanna go again\n",
    "Girl, I'll go again\n",
    "Girl, I'll go again\n",
    "\n",
    "She asked me if I do this every day, I said, \"Often\"\n",
    "Asked how many times she rode the wave, \"Not so often\"\n",
    "Bitches down to do it either way, often\n",
    "(Bitches down to do it either way)\n",
    "Baby, I can make that pussy rain, often (Oh, oh-oh-oh)\n",
    "Often, often, girl, I do this often\n",
    "Make that pussy poppin', do it how I want it\n",
    "Often, often, girl, I do this often\n",
    "Make that pussy poppin', do it how I want it\n",
    "Often\n",
    "\n",
    "Seneler sürer her günüm\n",
    "Ooh yeah, ooh yeah, ooh yeah, ooh yeah, ooh yeah\n",
    "Yalnız gitmekten yorgunum\n",
    "Ooh yeah, ooh yeah, ooh yeah, ooh yeah\n",
    "Seneler sürer her günüm\n",
    "Ooh yeah, ooh yeah, ooh yeah, ooh yeah, ooh yeah\n",
    "Yalnız gitmekten yorgunum\n",
    "Ooh yeah, ooh yeah, ooh yeah, ooh yeah\n",
    "\"\"\""
   ]
  },
  {
   "cell_type": "code",
   "execution_count": 30,
   "id": "249bbf73-1a0a-479a-8f57-22197062267c",
   "metadata": {},
   "outputs": [
    {
     "data": {
      "text/plain": [
       "['happy']"
      ]
     },
     "execution_count": 30,
     "metadata": {},
     "output_type": "execute_result"
    }
   ],
   "source": [
    "classifier.predict(LYRICS)"
   ]
  },
  {
   "cell_type": "code",
   "execution_count": null,
   "id": "652efff1-5c63-49e9-a5f0-be2dafb8296a",
   "metadata": {},
   "outputs": [],
   "source": []
  }
 ],
 "metadata": {
  "kernelspec": {
   "display_name": "Python 3 (ipykernel)",
   "language": "python",
   "name": "python3"
  },
  "language_info": {
   "codemirror_mode": {
    "name": "ipython",
    "version": 3
   },
   "file_extension": ".py",
   "mimetype": "text/x-python",
   "name": "python",
   "nbconvert_exporter": "python",
   "pygments_lexer": "ipython3",
   "version": "3.10.6"
  }
 },
 "nbformat": 4,
 "nbformat_minor": 5
}
