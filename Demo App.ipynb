{
 "cells": [
  {
   "cell_type": "markdown",
   "id": "805124b9-64c0-45a5-947a-c9cb3a51e233",
   "metadata": {},
   "source": [
    "# Demo App"
   ]
  },
  {
   "cell_type": "code",
   "execution_count": 1,
   "id": "6acfb020-59ca-4f85-8d68-734b67167ca3",
   "metadata": {},
   "outputs": [
    {
     "name": "stderr",
     "output_type": "stream",
     "text": [
      "100%|█████████████████████████████████████| 100000/100000 [00:04<00:00, 21975.65it/s]\n",
      "2023-03-09 17:17:24.332303: I tensorflow/core/common_runtime/pluggable_device/pluggable_device_factory.cc:306] Could not identify NUMA node of platform GPU ID 0, defaulting to 0. Your kernel may not have been built with NUMA support.\n",
      "2023-03-09 17:17:24.332870: I tensorflow/core/common_runtime/pluggable_device/pluggable_device_factory.cc:272] Created TensorFlow device (/job:localhost/replica:0/task:0/device:GPU:0 with 0 MB memory) -> physical PluggableDevice (device: 0, name: METAL, pci bus id: <undefined>)\n"
     ]
    },
    {
     "name": "stdout",
     "output_type": "stream",
     "text": [
      "Metal device set to: Apple M1 Pro\n"
     ]
    }
   ],
   "source": [
    "from multimodel_classifier import MultimodelClassifier\n",
    "classifier = MultimodelClassifier()"
   ]
  },
  {
   "cell_type": "code",
   "execution_count": 28,
   "id": "926dbd1b-d887-4f13-9ea1-7ad3a5ae69cb",
   "metadata": {},
   "outputs": [],
   "source": [
    "LYRICS = \"\"\"\n",
    "chatterjee\n",
    "\"\"\""
   ]
  },
  {
   "cell_type": "code",
   "execution_count": 29,
   "id": "249bbf73-1a0a-479a-8f57-22197062267c",
   "metadata": {},
   "outputs": [
    {
     "data": {
      "text/plain": [
       "['dreamy', 'epic', 'mellow', 'sad']"
      ]
     },
     "execution_count": 29,
     "metadata": {},
     "output_type": "execute_result"
    }
   ],
   "source": [
    "classifier.predict(LYRICS)"
   ]
  },
  {
   "cell_type": "code",
   "execution_count": null,
   "id": "652efff1-5c63-49e9-a5f0-be2dafb8296a",
   "metadata": {},
   "outputs": [],
   "source": []
  }
 ],
 "metadata": {
  "kernelspec": {
   "display_name": "Python 3 (ipykernel)",
   "language": "python",
   "name": "python3"
  },
  "language_info": {
   "codemirror_mode": {
    "name": "ipython",
    "version": 3
   },
   "file_extension": ".py",
   "mimetype": "text/x-python",
   "name": "python",
   "nbconvert_exporter": "python",
   "pygments_lexer": "ipython3",
   "version": "3.10.6"
  }
 },
 "nbformat": 4,
 "nbformat_minor": 5
}
