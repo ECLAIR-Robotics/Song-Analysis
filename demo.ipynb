{
 "cells": [
  {
   "cell_type": "markdown",
   "id": "29a023bc-b4ac-41d2-8321-ca756d199d39",
   "metadata": {},
   "source": [
    "# Demo Model"
   ]
  },
  {
   "cell_type": "code",
   "execution_count": 1,
   "id": "a884874a-f4e0-4216-83c5-05f09e9a891b",
   "metadata": {},
   "outputs": [
    {
     "data": {
      "text/html": [
       "<div>\n",
       "<style scoped>\n",
       "    .dataframe tbody tr th:only-of-type {\n",
       "        vertical-align: middle;\n",
       "    }\n",
       "\n",
       "    .dataframe tbody tr th {\n",
       "        vertical-align: top;\n",
       "    }\n",
       "\n",
       "    .dataframe thead th {\n",
       "        text-align: right;\n",
       "    }\n",
       "</style>\n",
       "<table border=\"1\" class=\"dataframe\">\n",
       "  <thead>\n",
       "    <tr style=\"text-align: right;\">\n",
       "      <th></th>\n",
       "      <th>Unnamed: 0</th>\n",
       "      <th>lastfm_url</th>\n",
       "      <th>track</th>\n",
       "      <th>artist</th>\n",
       "      <th>seeds</th>\n",
       "      <th>number_of_emotion_tags</th>\n",
       "      <th>valence_tags</th>\n",
       "      <th>arousal_tags</th>\n",
       "      <th>dominance_tags</th>\n",
       "      <th>mbid</th>\n",
       "      <th>spotify_id</th>\n",
       "      <th>genre</th>\n",
       "      <th>Lyric</th>\n",
       "      <th>language</th>\n",
       "    </tr>\n",
       "  </thead>\n",
       "  <tbody>\n",
       "    <tr>\n",
       "      <th>0</th>\n",
       "      <td>1</td>\n",
       "      <td>https://www.last.fm/music/metallica/_/st.%2banger</td>\n",
       "      <td>St. Anger</td>\n",
       "      <td>Metallica</td>\n",
       "      <td>['aggressive']</td>\n",
       "      <td>8</td>\n",
       "      <td>3.710000</td>\n",
       "      <td>5.833000</td>\n",
       "      <td>5.427250</td>\n",
       "      <td>727a2529-7ee8-4860-aef6-7959884895cb</td>\n",
       "      <td>3fOc9x06lKJBhz435mInlH</td>\n",
       "      <td>metal</td>\n",
       "      <td>Saint Anger 'round my neck\\nSaint Anger 'round...</td>\n",
       "      <td>en</td>\n",
       "    </tr>\n",
       "    <tr>\n",
       "      <th>1</th>\n",
       "      <td>3</td>\n",
       "      <td>https://www.last.fm/music/m.i.a./_/bamboo%2bbanga</td>\n",
       "      <td>Bamboo Banga</td>\n",
       "      <td>M.I.A.</td>\n",
       "      <td>['aggressive', 'fun', 'sexy', 'energetic']</td>\n",
       "      <td>13</td>\n",
       "      <td>6.555071</td>\n",
       "      <td>5.537214</td>\n",
       "      <td>5.691357</td>\n",
       "      <td>99dd2c8c-e7c1-413e-8ea4-4497a00ffa18</td>\n",
       "      <td>6tqFC1DIOphJkCwrjVzPmg</td>\n",
       "      <td>hip-hop</td>\n",
       "      <td>Road runner, road runner\\nGoing hundred mile p...</td>\n",
       "      <td>en</td>\n",
       "    </tr>\n",
       "    <tr>\n",
       "      <th>2</th>\n",
       "      <td>5</td>\n",
       "      <td>https://www.last.fm/music/drowning%2bpool/_/st...</td>\n",
       "      <td>Step Up</td>\n",
       "      <td>Drowning Pool</td>\n",
       "      <td>['aggressive']</td>\n",
       "      <td>9</td>\n",
       "      <td>2.971389</td>\n",
       "      <td>5.537500</td>\n",
       "      <td>4.726389</td>\n",
       "      <td>49e7b4d2-3772-4301-ba25-3cc46ceb342e</td>\n",
       "      <td>4Q1w4Ryyi8KNxxaFlOQClK</td>\n",
       "      <td>metal</td>\n",
       "      <td>Come!\\n\\nIf our own lives aren’t directly affe...</td>\n",
       "      <td>en</td>\n",
       "    </tr>\n",
       "    <tr>\n",
       "      <th>3</th>\n",
       "      <td>11</td>\n",
       "      <td>https://www.last.fm/music/kanye%2bwest/_/feedback</td>\n",
       "      <td>Feedback</td>\n",
       "      <td>Kanye West</td>\n",
       "      <td>['aggressive']</td>\n",
       "      <td>1</td>\n",
       "      <td>3.080000</td>\n",
       "      <td>5.870000</td>\n",
       "      <td>5.490000</td>\n",
       "      <td>NaN</td>\n",
       "      <td>49fT6owWuknekShh9utsjv</td>\n",
       "      <td>hip-hop</td>\n",
       "      <td>Ayy, y'all heard about the good news?\\nY'all s...</td>\n",
       "      <td>en</td>\n",
       "    </tr>\n",
       "    <tr>\n",
       "      <th>4</th>\n",
       "      <td>13</td>\n",
       "      <td>https://www.last.fm/music/deftones/_/7%2bwords</td>\n",
       "      <td>7 Words</td>\n",
       "      <td>Deftones</td>\n",
       "      <td>['aggressive', 'angry']</td>\n",
       "      <td>10</td>\n",
       "      <td>3.807121</td>\n",
       "      <td>5.473939</td>\n",
       "      <td>4.729091</td>\n",
       "      <td>1a826083-5585-445f-a708-415dc90aa050</td>\n",
       "      <td>6DoXuH326aAYEN8CnlLmhP</td>\n",
       "      <td>nu metal</td>\n",
       "      <td>I'll never be the same, breaking decency\\nDon'...</td>\n",
       "      <td>en</td>\n",
       "    </tr>\n",
       "  </tbody>\n",
       "</table>\n",
       "</div>"
      ],
      "text/plain": [
       "   Unnamed: 0                                         lastfm_url  \\\n",
       "0           1  https://www.last.fm/music/metallica/_/st.%2banger   \n",
       "1           3  https://www.last.fm/music/m.i.a./_/bamboo%2bbanga   \n",
       "2           5  https://www.last.fm/music/drowning%2bpool/_/st...   \n",
       "3          11  https://www.last.fm/music/kanye%2bwest/_/feedback   \n",
       "4          13     https://www.last.fm/music/deftones/_/7%2bwords   \n",
       "\n",
       "          track         artist                                       seeds  \\\n",
       "0     St. Anger      Metallica                              ['aggressive']   \n",
       "1  Bamboo Banga         M.I.A.  ['aggressive', 'fun', 'sexy', 'energetic']   \n",
       "2       Step Up  Drowning Pool                              ['aggressive']   \n",
       "3      Feedback     Kanye West                              ['aggressive']   \n",
       "4       7 Words       Deftones                     ['aggressive', 'angry']   \n",
       "\n",
       "   number_of_emotion_tags  valence_tags  arousal_tags  dominance_tags  \\\n",
       "0                       8      3.710000      5.833000        5.427250   \n",
       "1                      13      6.555071      5.537214        5.691357   \n",
       "2                       9      2.971389      5.537500        4.726389   \n",
       "3                       1      3.080000      5.870000        5.490000   \n",
       "4                      10      3.807121      5.473939        4.729091   \n",
       "\n",
       "                                   mbid              spotify_id     genre  \\\n",
       "0  727a2529-7ee8-4860-aef6-7959884895cb  3fOc9x06lKJBhz435mInlH     metal   \n",
       "1  99dd2c8c-e7c1-413e-8ea4-4497a00ffa18  6tqFC1DIOphJkCwrjVzPmg   hip-hop   \n",
       "2  49e7b4d2-3772-4301-ba25-3cc46ceb342e  4Q1w4Ryyi8KNxxaFlOQClK     metal   \n",
       "3                                   NaN  49fT6owWuknekShh9utsjv   hip-hop   \n",
       "4  1a826083-5585-445f-a708-415dc90aa050  6DoXuH326aAYEN8CnlLmhP  nu metal   \n",
       "\n",
       "                                               Lyric language  \n",
       "0  Saint Anger 'round my neck\\nSaint Anger 'round...       en  \n",
       "1  Road runner, road runner\\nGoing hundred mile p...       en  \n",
       "2  Come!\\n\\nIf our own lives aren’t directly affe...       en  \n",
       "3  Ayy, y'all heard about the good news?\\nY'all s...       en  \n",
       "4  I'll never be the same, breaking decency\\nDon'...       en  "
      ]
     },
     "execution_count": 1,
     "metadata": {},
     "output_type": "execute_result"
    }
   ],
   "source": [
    "import pandas as pd\n",
    "data = pd.read_csv('./out.csv')\n",
    "data.head()"
   ]
  },
  {
   "cell_type": "code",
   "execution_count": 2,
   "id": "7058db82-c0d3-4c2d-87dd-7331577e4630",
   "metadata": {},
   "outputs": [],
   "source": [
    "data['word-len'] = data['Lyric'].apply(lambda i: len(i.split(' ')))"
   ]
  },
  {
   "cell_type": "code",
   "execution_count": 3,
   "id": "a8bb8d34-3d94-4cc7-95a5-2d1ea1d507fa",
   "metadata": {},
   "outputs": [
    {
     "data": {
      "text/plain": [
       "<AxesSubplot: >"
      ]
     },
     "execution_count": 3,
     "metadata": {},
     "output_type": "execute_result"
    },
    {
     "data": {
      "image/png": "[encoded data removed]",
      "text/plain": [
       "<Figure size 640x480 with 1 Axes>"
      ]
     },
     "metadata": {},
     "output_type": "display_data"
    }
   ],
   "source": [
    "data['word-len'].hist(bins=20)"
   ]
  },
  {
   "cell_type": "code",
   "execution_count": 4,
   "id": "e9aca28b-e5ea-443b-a80e-439462275d30",
   "metadata": {},
   "outputs": [],
   "source": [
    "CUTOFF = int(data['word-len'].mean() + data['word-len'].std())"
   ]
  },
  {
   "cell_type": "code",
   "execution_count": 5,
   "id": "ac55c2f0-7ef9-4f8d-90da-64e657ab48a0",
   "metadata": {},
   "outputs": [],
   "source": [
    "import re\n",
    "data['no-punct'] = data['Lyric'].apply(lambda i: re.sub(r'[^\\w\\s]', '', i))\n",
    "data['no-punct'] = data['no-punct'].apply(lambda i: i.lower())\n",
    "data['words-split'] = data['no-punct'].apply(lambda i: re.split(' |\\n', i))\n",
    "data['words-split'] = data['words-split'].apply(lambda i: [j for j in i if j])"
   ]
  },
  {
   "cell_type": "code",
   "execution_count": 6,
   "id": "3d6ee0ea-a869-4a02-87a1-ee4a7bbd28cd",
   "metadata": {},
   "outputs": [
    {
     "data": {
      "text/plain": [
       "0    [saint, anger, round, my, neck, saint, anger, ...\n",
       "1    [road, runner, road, runner, going, hundred, m...\n",
       "2    [come, if, our, own, lives, arent, directly, a...\n",
       "3    [ayy, yall, heard, about, the, good, news, yal...\n",
       "4    [ill, never, be, the, same, breaking, decency,...\n",
       "Name: words-split, dtype: object"
      ]
     },
     "execution_count": 6,
     "metadata": {},
     "output_type": "execute_result"
    }
   ],
   "source": [
    "data['words-split'].head()"
   ]
  },
  {
   "cell_type": "code",
   "execution_count": 7,
   "id": "b9961e98-d70c-45bf-ba3f-6a71a1500fa8",
   "metadata": {},
   "outputs": [],
   "source": [
    "data['trimmed'] = data['words-split'].apply(lambda i: i[:CUTOFF] if len(i) > CUTOFF else i)"
   ]
  },
  {
   "cell_type": "code",
   "execution_count": 8,
   "id": "879f11fd-9baf-4e7d-a630-54069e82005e",
   "metadata": {},
   "outputs": [],
   "source": [
    "import numpy as np\n",
    "all_words = np.concatenate(data['trimmed'])\n",
    "unique_words, counts = np.unique(all_words, return_counts=True)"
   ]
  },
  {
   "cell_type": "code",
   "execution_count": 9,
   "id": "b4928ea1-7ae1-4c18-8332-af3cad845617",
   "metadata": {},
   "outputs": [],
   "source": [
    "sorted_words = unique_words[counts.argsort()[::-1]]"
   ]
  },
  {
   "cell_type": "code",
   "execution_count": 10,
   "id": "c10508ca-798e-4b2d-98a8-2785d4a153b8",
   "metadata": {},
   "outputs": [],
   "source": [
    "VOCAB_SIZE = 3000\n",
    "most_common_words = sorted_words[:VOCAB_SIZE]"
   ]
  },
  {
   "cell_type": "code",
   "execution_count": 15,
   "id": "ea2f5305-e616-42c0-ad27-751e22349b0b",
   "metadata": {
    "scrolled": true,
    "tags": []
   },
   "outputs": [
    {
     "name": "stderr",
     "output_type": "stream",
     "text": [
      "100%|██████████████████████████████████████████████████████████████████████████████████████████████████████████████████████████████████████████████████████████████████████████| 16797/16797 [00:17<00:00, 940.31it/s]\n"
     ]
    },
    {
     "data": {
      "text/plain": [
       "(16797,)"
      ]
     },
     "execution_count": 15,
     "metadata": {},
     "output_type": "execute_result"
    }
   ],
   "source": [
    "import numpy as np\n",
    "# Add padding as empty string (all empty strings have already been removed by this point)\n",
    "data['padded'] = data['trimmed'].apply(lambda i: i + [''] * (CUTOFF - len(i)))\n",
    "trimmed_2d = np.stack(data['padded'])\n",
    "\n",
    "most_common_words = np.concatenate([[''], most_common_words])\n",
    "\n",
    "from sklearn.preprocessing import LabelBinarizer\n",
    "from tqdm import tqdm as tqdm\n",
    "enc = LabelBinarizer(sparse_output=True)  # Sparse matrix due to resource constraints\n",
    "enc.fit(most_common_words)\n",
    "encodings = np.array([enc.transform(trimmed_2d[i]) for i in tqdm(range(len(trimmed_2d)))])\n",
    "encodings.shape"
   ]
  },
  {
   "cell_type": "code",
   "execution_count": 11,
   "id": "62aed75c-a834-48dd-8b7e-00f7baa7d679",
   "metadata": {},
   "outputs": [
    {
     "name": "stdout",
     "output_type": "stream",
     "text": [
      "Metal device set to: Apple M1 Pro\n",
      "Model: \"model\"\n",
      "_________________________________________________________________\n",
      " Layer (type)                Output Shape              Param #   \n",
      "=================================================================\n",
      " input_1 (InputLayer)        [(None, 329, 3001)]       0         \n",
      "                                                                 \n",
      " dense (Dense)               (None, 329, 30)           90060     \n",
      "                                                                 \n",
      " conv1d (Conv1D)             (None, 305, 100)          75100     \n",
      "                                                                 \n",
      " max_pooling1d (MaxPooling1D  (None, 152, 100)         0         \n",
      " )                                                               \n",
      "                                                                 \n",
      " flatten (Flatten)           (None, 15200)             0         \n",
      "                                                                 \n",
      " dense_1 (Dense)             (None, 30)                456030    \n",
      "                                                                 \n",
      " dropout (Dropout)           (None, 30)                0         \n",
      "                                                                 \n",
      " dense_2 (Dense)             (None, 30)                930       \n",
      "                                                                 \n",
      " dense_3 (Dense)             (None, 3)                 93        \n",
      "                                                                 \n",
      "=================================================================\n",
      "Total params: 622,213\n",
      "Trainable params: 622,213\n",
      "Non-trainable params: 0\n",
      "_________________________________________________________________\n"
     ]
    },
    {
     "name": "stderr",
     "output_type": "stream",
     "text": [
      "2023-03-08 10:07:39.104101: I tensorflow/core/common_runtime/pluggable_device/pluggable_device_factory.cc:306] Could not identify NUMA node of platform GPU ID 0, defaulting to 0. Your kernel may not have been built with NUMA support.\n",
      "2023-03-08 10:07:39.104389: I tensorflow/core/common_runtime/pluggable_device/pluggable_device_factory.cc:272] Created TensorFlow device (/job:localhost/replica:0/task:0/device:GPU:0 with 0 MB memory) -> physical PluggableDevice (device: 0, name: METAL, pci bus id: <undefined>)\n"
     ]
    }
   ],
   "source": [
    "import tensorflow as tf\n",
    "\n",
    "in_size = VOCAB_SIZE + 1\n",
    "\n",
    "inputs = tf.keras.layers.Input((CUTOFF, in_size))\n",
    "x = tf.keras.layers.Dense(in_size // 100, activation='relu')(inputs)\n",
    "x = tf.keras.layers.Conv1D(100, 25, activation='relu')(x)\n",
    "x = tf.keras.layers.MaxPool1D()(x)\n",
    "x = tf.keras.layers.Flatten()(x)\n",
    "x = tf.keras.layers.Dense(in_size // 100, activation='relu')(x)\n",
    "x = tf.keras.layers.Dropout(rate=.1)(x)\n",
    "x = tf.keras.layers.Dense(in_size // 100, activation='relu')(x)\n",
    "x = tf.keras.layers.Dense(3)(x)\n",
    "\n",
    "model = tf.keras.Model(inputs=inputs, outputs=x)\n",
    "model.compile(optimizer='adam', loss='mean_squared_error')\n",
    "model.summary()"
   ]
  },
  {
   "cell_type": "code",
   "execution_count": 16,
   "id": "029e18ea-9871-48f2-bc52-7a175830e737",
   "metadata": {},
   "outputs": [
    {
     "data": {
      "text/plain": [
       "(16797, 3)"
      ]
     },
     "execution_count": 16,
     "metadata": {},
     "output_type": "execute_result"
    }
   ],
   "source": [
    "def normalize(inp: np.ndarray) -> np.ndarray:\n",
    "    return (inp - inp.mean()) / inp.std()\n",
    "\n",
    "valence_norm = normalize(data['valence_tags'].to_numpy())\n",
    "arousal_norm = normalize(data['arousal_tags'].to_numpy())\n",
    "dominance_norm = normalize(data['arousal_tags'].to_numpy())\n",
    "\n",
    "data['valence_norm'] = valence_norm\n",
    "data['arousal_norm'] = arousal_norm\n",
    "data['dominance_norm'] = dominance_norm\n",
    "\n",
    "labels = np.stack([valence_norm, arousal_norm, dominance_norm], axis=1)\n",
    "labels.shape"
   ]
  },
  {
   "cell_type": "code",
   "execution_count": 19,
   "id": "6be32bce-c328-4786-a791-ba187307653a",
   "metadata": {},
   "outputs": [],
   "source": [
    "import numpy as np\n",
    "def random_epoch(x_train, x_val, y_train, y_val, batch_size=100, sample_size=1000):\n",
    "    # Procedurally convert sparse matrix back to normal array\n",
    "    rng = np.random.default_rng()\n",
    "    sample = rng.integers(x_train.shape[0], size=sample_size)\n",
    "    y_train = y_train[sample]\n",
    "    sparse_x = x_train[sample]\n",
    "    x_train = np.stack([i.toarray() for i in sparse_x])\n",
    "    \n",
    "    val_sample = rng.integers(x_val.shape[0], size=sample_size//10)\n",
    "    x_val = np.stack([i.toarray() for i in x_val[val_sample]])\n",
    "    y_val = y_val[val_sample]\n",
    "    \n",
    "    model.fit(x_train, y_train, validation_data=(x_val, y_val), batch_size=batch_size, epochs=1)\n",
    "\n",
    "from sklearn.model_selection import train_test_split\n",
    "def train_model(x: np.ndarray, y: np.ndarray, epochs: int, val_split=.15):\n",
    "    x_train, x_val, y_train, y_val = train_test_split(x, y, test_size=val_split)\n",
    "    for i in range(epochs):\n",
    "        print(f'Epoch {i + 1} of {epochs}:')\n",
    "        random_epoch(x_train, x_val, y_train, y_val, batch_size=10, sample_size=100)"
   ]
  },
  {
   "cell_type": "code",
   "execution_count": 20,
   "id": "baf9c6d3-dcca-43a4-821e-840cc8b61163",
   "metadata": {},
   "outputs": [
    {
     "name": "stdout",
     "output_type": "stream",
     "text": [
      "Epoch 1 of 40:\n",
      "10/10 [==============================] - 0s 27ms/step - loss: 0.8958 - val_loss: 2.0474\n",
      "Epoch 2 of 40:\n",
      "10/10 [==============================] - 0s 22ms/step - loss: 0.7912 - val_loss: 0.8005\n",
      "Epoch 3 of 40:\n",
      "10/10 [==============================] - 0s 25ms/step - loss: 0.9790 - val_loss: 0.9885\n",
      "Epoch 4 of 40:\n",
      "10/10 [==============================] - 0s 26ms/step - loss: 0.8540 - val_loss: 0.9380\n",
      "Epoch 5 of 40:\n",
      "10/10 [==============================] - 0s 26ms/step - loss: 1.0433 - val_loss: 0.7897\n",
      "Epoch 6 of 40:\n",
      "10/10 [==============================] - 0s 28ms/step - loss: 1.0326 - val_loss: 0.9413\n",
      "Epoch 7 of 40:\n",
      "10/10 [==============================] - 0s 26ms/step - loss: 0.9091 - val_loss: 1.2033\n",
      "Epoch 8 of 40:\n",
      "10/10 [==============================] - 0s 23ms/step - loss: 0.9932 - val_loss: 0.9491\n",
      "Epoch 9 of 40:\n",
      "10/10 [==============================] - 0s 25ms/step - loss: 1.0215 - val_loss: 0.8519\n",
      "Epoch 10 of 40:\n",
      "10/10 [==============================] - 0s 24ms/step - loss: 0.9481 - val_loss: 0.8149\n",
      "Epoch 11 of 40:\n",
      "10/10 [==============================] - 0s 25ms/step - loss: 0.9765 - val_loss: 0.8186\n",
      "Epoch 12 of 40:\n",
      "10/10 [==============================] - 0s 26ms/step - loss: 1.0074 - val_loss: 1.3109\n",
      "Epoch 13 of 40:\n",
      "10/10 [==============================] - 0s 24ms/step - loss: 0.8746 - val_loss: 0.9842\n",
      "Epoch 14 of 40:\n",
      "10/10 [==============================] - 0s 22ms/step - loss: 0.9244 - val_loss: 0.5423\n",
      "Epoch 15 of 40:\n",
      "10/10 [==============================] - 0s 25ms/step - loss: 0.8739 - val_loss: 0.8202\n",
      "Epoch 16 of 40:\n",
      "10/10 [==============================] - 0s 24ms/step - loss: 1.0545 - val_loss: 1.1854\n",
      "Epoch 17 of 40:\n",
      "10/10 [==============================] - 0s 24ms/step - loss: 1.0182 - val_loss: 0.5212\n",
      "Epoch 18 of 40:\n",
      "10/10 [==============================] - 0s 34ms/step - loss: 0.9349 - val_loss: 1.1453\n",
      "Epoch 19 of 40:\n",
      "10/10 [==============================] - 0s 28ms/step - loss: 0.9337 - val_loss: 0.7415\n",
      "Epoch 20 of 40:\n",
      "10/10 [==============================] - 0s 24ms/step - loss: 0.9077 - val_loss: 1.0188\n",
      "Epoch 21 of 40:\n",
      "10/10 [==============================] - 0s 29ms/step - loss: 0.7673 - val_loss: 0.5658\n",
      "Epoch 22 of 40:\n",
      "10/10 [==============================] - 0s 30ms/step - loss: 0.9648 - val_loss: 0.3223\n",
      "Epoch 23 of 40:\n",
      "10/10 [==============================] - 0s 25ms/step - loss: 0.8696 - val_loss: 1.2684\n",
      "Epoch 24 of 40:\n",
      "10/10 [==============================] - 0s 26ms/step - loss: 0.8749 - val_loss: 1.1327\n",
      "Epoch 25 of 40:\n",
      "10/10 [==============================] - 0s 34ms/step - loss: 1.0147 - val_loss: 0.7620\n",
      "Epoch 26 of 40:\n",
      "10/10 [==============================] - 0s 31ms/step - loss: 0.8967 - val_loss: 0.6000\n",
      "Epoch 27 of 40:\n",
      "10/10 [==============================] - 0s 31ms/step - loss: 0.9418 - val_loss: 1.4594\n",
      "Epoch 28 of 40:\n",
      "10/10 [==============================] - 0s 24ms/step - loss: 1.1769 - val_loss: 0.6965\n",
      "Epoch 29 of 40:\n",
      "10/10 [==============================] - 0s 32ms/step - loss: 0.9168 - val_loss: 0.8305\n",
      "Epoch 30 of 40:\n",
      "10/10 [==============================] - 0s 31ms/step - loss: 1.0152 - val_loss: 0.5031\n",
      "Epoch 31 of 40:\n",
      "10/10 [==============================] - 0s 30ms/step - loss: 0.8583 - val_loss: 0.5250\n",
      "Epoch 32 of 40:\n",
      "10/10 [==============================] - 0s 34ms/step - loss: 0.9086 - val_loss: 0.4505\n",
      "Epoch 33 of 40:\n",
      "10/10 [==============================] - 0s 33ms/step - loss: 0.9177 - val_loss: 1.4451\n",
      "Epoch 34 of 40:\n",
      "10/10 [==============================] - 0s 32ms/step - loss: 1.0117 - val_loss: 0.9834\n",
      "Epoch 35 of 40:\n",
      "10/10 [==============================] - 0s 31ms/step - loss: 0.8791 - val_loss: 1.0030\n",
      "Epoch 36 of 40:\n",
      "10/10 [==============================] - 0s 31ms/step - loss: 1.1615 - val_loss: 0.7463\n",
      "Epoch 37 of 40:\n",
      "10/10 [==============================] - 0s 29ms/step - loss: 0.8356 - val_loss: 0.7544\n",
      "Epoch 38 of 40:\n",
      "10/10 [==============================] - 0s 33ms/step - loss: 0.9310 - val_loss: 1.0117\n",
      "Epoch 39 of 40:\n",
      "10/10 [==============================] - 0s 31ms/step - loss: 0.7898 - val_loss: 0.6141\n",
      "Epoch 40 of 40:\n",
      "10/10 [==============================] - 0s 34ms/step - loss: 0.7392 - val_loss: 1.4609\n"
     ]
    }
   ],
   "source": [
    "train_model(encodings, labels, 40)"
   ]
  },
  {
   "cell_type": "code",
   "execution_count": 61,
   "id": "a28161aa-68d2-4198-a232-170c3f296587",
   "metadata": {},
   "outputs": [
    {
     "name": "stderr",
     "output_type": "stream",
     "text": [
      "WARNING:absl:Found untraced functions such as _jit_compiled_convolution_op while saving (showing 1 of 1). These functions will not be directly callable after loading.\n"
     ]
    },
    {
     "name": "stdout",
     "output_type": "stream",
     "text": [
      "INFO:tensorflow:Assets written to: demo-model/assets\n"
     ]
    },
    {
     "name": "stderr",
     "output_type": "stream",
     "text": [
      "INFO:tensorflow:Assets written to: demo-model/assets\n"
     ]
    }
   ],
   "source": [
    "model.save('demo-model')"
   ]
  },
  {
   "cell_type": "code",
   "execution_count": 16,
   "id": "e8af5665-f9e6-4d6a-a343-02fb6e914d16",
   "metadata": {},
   "outputs": [],
   "source": [
    "model = tf.keras.models.load_model('demo-model')"
   ]
  },
  {
   "cell_type": "code",
   "execution_count": 62,
   "id": "2737de2b-4196-4b4c-a4a9-8bdd33964a7f",
   "metadata": {},
   "outputs": [
    {
     "data": {
      "text/html": [
       "<div>\n",
       "<style scoped>\n",
       "    .dataframe tbody tr th:only-of-type {\n",
       "        vertical-align: middle;\n",
       "    }\n",
       "\n",
       "    .dataframe tbody tr th {\n",
       "        vertical-align: top;\n",
       "    }\n",
       "\n",
       "    .dataframe thead th {\n",
       "        text-align: right;\n",
       "    }\n",
       "</style>\n",
       "<table border=\"1\" class=\"dataframe\">\n",
       "  <thead>\n",
       "    <tr style=\"text-align: right;\">\n",
       "      <th></th>\n",
       "      <th>Unnamed: 0</th>\n",
       "      <th>lastfm_url</th>\n",
       "      <th>track</th>\n",
       "      <th>artist</th>\n",
       "      <th>seeds</th>\n",
       "      <th>number_of_emotion_tags</th>\n",
       "      <th>valence_tags</th>\n",
       "      <th>arousal_tags</th>\n",
       "      <th>dominance_tags</th>\n",
       "      <th>mbid</th>\n",
       "      <th>...</th>\n",
       "      <th>Lyric</th>\n",
       "      <th>language</th>\n",
       "      <th>word-len</th>\n",
       "      <th>no-punct</th>\n",
       "      <th>words-split</th>\n",
       "      <th>trimmed</th>\n",
       "      <th>padded</th>\n",
       "      <th>valence_norm</th>\n",
       "      <th>arousal_norm</th>\n",
       "      <th>dominance_norm</th>\n",
       "    </tr>\n",
       "  </thead>\n",
       "  <tbody>\n",
       "    <tr>\n",
       "      <th>0</th>\n",
       "      <td>1</td>\n",
       "      <td>https://www.last.fm/music/metallica/_/st.%2banger</td>\n",
       "      <td>St. Anger</td>\n",
       "      <td>Metallica</td>\n",
       "      <td>['aggressive']</td>\n",
       "      <td>8</td>\n",
       "      <td>3.710000</td>\n",
       "      <td>5.833000</td>\n",
       "      <td>5.427250</td>\n",
       "      <td>727a2529-7ee8-4860-aef6-7959884895cb</td>\n",
       "      <td>...</td>\n",
       "      <td>Saint Anger 'round my neck\\nSaint Anger 'round...</td>\n",
       "      <td>en</td>\n",
       "      <td>362</td>\n",
       "      <td>saint anger round my neck\\nsaint anger round m...</td>\n",
       "      <td>[saint, anger, round, my, neck, saint, anger, ...</td>\n",
       "      <td>[saint, anger, round, my, neck, saint, anger, ...</td>\n",
       "      <td>[saint, anger, round, my, neck, saint, anger, ...</td>\n",
       "      <td>-1.170806</td>\n",
       "      <td>1.330209</td>\n",
       "      <td>1.330209</td>\n",
       "    </tr>\n",
       "    <tr>\n",
       "      <th>1</th>\n",
       "      <td>3</td>\n",
       "      <td>https://www.last.fm/music/m.i.a./_/bamboo%2bbanga</td>\n",
       "      <td>Bamboo Banga</td>\n",
       "      <td>M.I.A.</td>\n",
       "      <td>['aggressive', 'fun', 'sexy', 'energetic']</td>\n",
       "      <td>13</td>\n",
       "      <td>6.555071</td>\n",
       "      <td>5.537214</td>\n",
       "      <td>5.691357</td>\n",
       "      <td>99dd2c8c-e7c1-413e-8ea4-4497a00ffa18</td>\n",
       "      <td>...</td>\n",
       "      <td>Road runner, road runner\\nGoing hundred mile p...</td>\n",
       "      <td>en</td>\n",
       "      <td>398</td>\n",
       "      <td>road runner road runner\\ngoing hundred mile pe...</td>\n",
       "      <td>[road, runner, road, runner, going, hundred, m...</td>\n",
       "      <td>[road, runner, road, runner, going, hundred, m...</td>\n",
       "      <td>[road, runner, road, runner, going, hundred, m...</td>\n",
       "      <td>0.668156</td>\n",
       "      <td>1.065359</td>\n",
       "      <td>1.065359</td>\n",
       "    </tr>\n",
       "    <tr>\n",
       "      <th>2</th>\n",
       "      <td>5</td>\n",
       "      <td>https://www.last.fm/music/drowning%2bpool/_/st...</td>\n",
       "      <td>Step Up</td>\n",
       "      <td>Drowning Pool</td>\n",
       "      <td>['aggressive']</td>\n",
       "      <td>9</td>\n",
       "      <td>2.971389</td>\n",
       "      <td>5.537500</td>\n",
       "      <td>4.726389</td>\n",
       "      <td>49e7b4d2-3772-4301-ba25-3cc46ceb342e</td>\n",
       "      <td>...</td>\n",
       "      <td>Come!\\n\\nIf our own lives aren’t directly affe...</td>\n",
       "      <td>en</td>\n",
       "      <td>228</td>\n",
       "      <td>come\\n\\nif our own lives arent directly affect...</td>\n",
       "      <td>[come, if, our, own, lives, arent, directly, a...</td>\n",
       "      <td>[come, if, our, own, lives, arent, directly, a...</td>\n",
       "      <td>[come, if, our, own, lives, arent, directly, a...</td>\n",
       "      <td>-1.648221</td>\n",
       "      <td>1.065615</td>\n",
       "      <td>1.065615</td>\n",
       "    </tr>\n",
       "    <tr>\n",
       "      <th>3</th>\n",
       "      <td>11</td>\n",
       "      <td>https://www.last.fm/music/kanye%2bwest/_/feedback</td>\n",
       "      <td>Feedback</td>\n",
       "      <td>Kanye West</td>\n",
       "      <td>['aggressive']</td>\n",
       "      <td>1</td>\n",
       "      <td>3.080000</td>\n",
       "      <td>5.870000</td>\n",
       "      <td>5.490000</td>\n",
       "      <td>NaN</td>\n",
       "      <td>...</td>\n",
       "      <td>Ayy, y'all heard about the good news?\\nY'all s...</td>\n",
       "      <td>en</td>\n",
       "      <td>346</td>\n",
       "      <td>ayy yall heard about the good news\\nyall sleep...</td>\n",
       "      <td>[ayy, yall, heard, about, the, good, news, yal...</td>\n",
       "      <td>[ayy, yall, heard, about, the, good, news, yal...</td>\n",
       "      <td>[ayy, yall, heard, about, the, good, news, yal...</td>\n",
       "      <td>-1.578018</td>\n",
       "      <td>1.363339</td>\n",
       "      <td>1.363339</td>\n",
       "    </tr>\n",
       "    <tr>\n",
       "      <th>4</th>\n",
       "      <td>13</td>\n",
       "      <td>https://www.last.fm/music/deftones/_/7%2bwords</td>\n",
       "      <td>7 Words</td>\n",
       "      <td>Deftones</td>\n",
       "      <td>['aggressive', 'angry']</td>\n",
       "      <td>10</td>\n",
       "      <td>3.807121</td>\n",
       "      <td>5.473939</td>\n",
       "      <td>4.729091</td>\n",
       "      <td>1a826083-5585-445f-a708-415dc90aa050</td>\n",
       "      <td>...</td>\n",
       "      <td>I'll never be the same, breaking decency\\nDon'...</td>\n",
       "      <td>en</td>\n",
       "      <td>336</td>\n",
       "      <td>ill never be the same breaking decency\\ndont b...</td>\n",
       "      <td>[ill, never, be, the, same, breaking, decency,...</td>\n",
       "      <td>[ill, never, be, the, same, breaking, decency,...</td>\n",
       "      <td>[ill, never, be, the, same, breaking, decency,...</td>\n",
       "      <td>-1.108030</td>\n",
       "      <td>1.008703</td>\n",
       "      <td>1.008703</td>\n",
       "    </tr>\n",
       "    <tr>\n",
       "      <th>...</th>\n",
       "      <td>...</td>\n",
       "      <td>...</td>\n",
       "      <td>...</td>\n",
       "      <td>...</td>\n",
       "      <td>...</td>\n",
       "      <td>...</td>\n",
       "      <td>...</td>\n",
       "      <td>...</td>\n",
       "      <td>...</td>\n",
       "      <td>...</td>\n",
       "      <td>...</td>\n",
       "      <td>...</td>\n",
       "      <td>...</td>\n",
       "      <td>...</td>\n",
       "      <td>...</td>\n",
       "      <td>...</td>\n",
       "      <td>...</td>\n",
       "      <td>...</td>\n",
       "      <td>...</td>\n",
       "      <td>...</td>\n",
       "      <td>...</td>\n",
       "    </tr>\n",
       "    <tr>\n",
       "      <th>16792</th>\n",
       "      <td>229432</td>\n",
       "      <td>https://www.last.fm/music/noblegases/_/xenon</td>\n",
       "      <td>Xenon</td>\n",
       "      <td>NobleGases</td>\n",
       "      <td>['noble']</td>\n",
       "      <td>2</td>\n",
       "      <td>6.160000</td>\n",
       "      <td>3.695000</td>\n",
       "      <td>6.130000</td>\n",
       "      <td>NaN</td>\n",
       "      <td>...</td>\n",
       "      <td>You're floating out astray\\nThis cold and life...</td>\n",
       "      <td>en</td>\n",
       "      <td>117</td>\n",
       "      <td>youre floating out astray\\nthis cold and lifel...</td>\n",
       "      <td>[youre, floating, out, astray, this, cold, and...</td>\n",
       "      <td>[youre, floating, out, astray, this, cold, and...</td>\n",
       "      <td>[youre, floating, out, astray, this, cold, and...</td>\n",
       "      <td>0.412794</td>\n",
       "      <td>-0.584176</td>\n",
       "      <td>-0.584176</td>\n",
       "    </tr>\n",
       "    <tr>\n",
       "      <th>16793</th>\n",
       "      <td>229435</td>\n",
       "      <td>https://www.last.fm/music/kurt%2bvile/_/wild%2...</td>\n",
       "      <td>Wild Imagination</td>\n",
       "      <td>Kurt Vile</td>\n",
       "      <td>['transparent']</td>\n",
       "      <td>2</td>\n",
       "      <td>6.925000</td>\n",
       "      <td>4.975000</td>\n",
       "      <td>6.190000</td>\n",
       "      <td>NaN</td>\n",
       "      <td>...</td>\n",
       "      <td>I'm looking at you\\nBut It's only a picture so...</td>\n",
       "      <td>en</td>\n",
       "      <td>160</td>\n",
       "      <td>im looking at you\\nbut its only a picture so i...</td>\n",
       "      <td>[im, looking, at, you, but, its, only, a, pict...</td>\n",
       "      <td>[im, looking, at, you, but, its, only, a, pict...</td>\n",
       "      <td>[im, looking, at, you, but, its, only, a, pict...</td>\n",
       "      <td>0.907265</td>\n",
       "      <td>0.561948</td>\n",
       "      <td>0.561948</td>\n",
       "    </tr>\n",
       "    <tr>\n",
       "      <th>16794</th>\n",
       "      <td>229436</td>\n",
       "      <td>https://www.last.fm/music/portugal.%2bthe%2bma...</td>\n",
       "      <td>Oh Lord</td>\n",
       "      <td>Portugal. The Man</td>\n",
       "      <td>['transparent']</td>\n",
       "      <td>1</td>\n",
       "      <td>5.370000</td>\n",
       "      <td>3.450000</td>\n",
       "      <td>5.330000</td>\n",
       "      <td>7ea228f9-16d0-474d-8c51-5a1a9810ddde</td>\n",
       "      <td>...</td>\n",
       "      <td>\\n\\n\\nWhere do I fit in\\nI am waiting here for...</td>\n",
       "      <td>en</td>\n",
       "      <td>449</td>\n",
       "      <td>\\n\\n\\nwhere do i fit in\\ni am waiting here for...</td>\n",
       "      <td>[where, do, i, fit, in, i, am, waiting, here, ...</td>\n",
       "      <td>[where, do, i, fit, in, i, am, waiting, here, ...</td>\n",
       "      <td>[where, do, i, fit, in, i, am, waiting, here, ...</td>\n",
       "      <td>-0.097836</td>\n",
       "      <td>-0.803551</td>\n",
       "      <td>-0.803551</td>\n",
       "    </tr>\n",
       "    <tr>\n",
       "      <th>16795</th>\n",
       "      <td>229443</td>\n",
       "      <td>https://www.last.fm/music/porcelain%2band%2bth...</td>\n",
       "      <td>Transparent</td>\n",
       "      <td>Porcelain and The Tramps</td>\n",
       "      <td>['transparent']</td>\n",
       "      <td>3</td>\n",
       "      <td>6.613333</td>\n",
       "      <td>4.633333</td>\n",
       "      <td>5.773333</td>\n",
       "      <td>NaN</td>\n",
       "      <td>...</td>\n",
       "      <td>Wish I were transparent\\nYou could see right t...</td>\n",
       "      <td>en</td>\n",
       "      <td>30</td>\n",
       "      <td>wish i were transparent\\nyou could see right t...</td>\n",
       "      <td>[wish, i, were, transparent, you, could, see, ...</td>\n",
       "      <td>[wish, i, were, transparent, you, could, see, ...</td>\n",
       "      <td>[wish, i, were, transparent, you, could, see, ...</td>\n",
       "      <td>0.705814</td>\n",
       "      <td>0.256016</td>\n",
       "      <td>0.256016</td>\n",
       "    </tr>\n",
       "    <tr>\n",
       "      <th>16796</th>\n",
       "      <td>229473</td>\n",
       "      <td>https://www.last.fm/music/daniel%2blanois/_/lo...</td>\n",
       "      <td>Lovechild</td>\n",
       "      <td>Daniel Lanois</td>\n",
       "      <td>['transparent']</td>\n",
       "      <td>2</td>\n",
       "      <td>6.685000</td>\n",
       "      <td>4.405000</td>\n",
       "      <td>5.625000</td>\n",
       "      <td>16c3d394-c4d4-4dc2-bbf1-b2bef3ac861c</td>\n",
       "      <td>...</td>\n",
       "      <td>I CAUGHT HER STARING, A PSYCHEDELIC DANCER,\\nG...</td>\n",
       "      <td>en</td>\n",
       "      <td>151</td>\n",
       "      <td>i caught her staring a psychedelic dancer\\ngre...</td>\n",
       "      <td>[i, caught, her, staring, a, psychedelic, danc...</td>\n",
       "      <td>[i, caught, her, staring, a, psychedelic, danc...</td>\n",
       "      <td>[i, caught, her, staring, a, psychedelic, danc...</td>\n",
       "      <td>0.752137</td>\n",
       "      <td>0.051564</td>\n",
       "      <td>0.051564</td>\n",
       "    </tr>\n",
       "  </tbody>\n",
       "</table>\n",
       "<p>16797 rows × 22 columns</p>\n",
       "</div>"
      ],
      "text/plain": [
       "       Unnamed: 0                                         lastfm_url  \\\n",
       "0               1  https://www.last.fm/music/metallica/_/st.%2banger   \n",
       "1               3  https://www.last.fm/music/m.i.a./_/bamboo%2bbanga   \n",
       "2               5  https://www.last.fm/music/drowning%2bpool/_/st...   \n",
       "3              11  https://www.last.fm/music/kanye%2bwest/_/feedback   \n",
       "4              13     https://www.last.fm/music/deftones/_/7%2bwords   \n",
       "...           ...                                                ...   \n",
       "16792      229432       https://www.last.fm/music/noblegases/_/xenon   \n",
       "16793      229435  https://www.last.fm/music/kurt%2bvile/_/wild%2...   \n",
       "16794      229436  https://www.last.fm/music/portugal.%2bthe%2bma...   \n",
       "16795      229443  https://www.last.fm/music/porcelain%2band%2bth...   \n",
       "16796      229473  https://www.last.fm/music/daniel%2blanois/_/lo...   \n",
       "\n",
       "                  track                    artist  \\\n",
       "0             St. Anger                 Metallica   \n",
       "1          Bamboo Banga                    M.I.A.   \n",
       "2               Step Up             Drowning Pool   \n",
       "3              Feedback                Kanye West   \n",
       "4               7 Words                  Deftones   \n",
       "...                 ...                       ...   \n",
       "16792             Xenon                NobleGases   \n",
       "16793  Wild Imagination                 Kurt Vile   \n",
       "16794           Oh Lord         Portugal. The Man   \n",
       "16795       Transparent  Porcelain and The Tramps   \n",
       "16796         Lovechild             Daniel Lanois   \n",
       "\n",
       "                                            seeds  number_of_emotion_tags  \\\n",
       "0                                  ['aggressive']                       8   \n",
       "1      ['aggressive', 'fun', 'sexy', 'energetic']                      13   \n",
       "2                                  ['aggressive']                       9   \n",
       "3                                  ['aggressive']                       1   \n",
       "4                         ['aggressive', 'angry']                      10   \n",
       "...                                           ...                     ...   \n",
       "16792                                   ['noble']                       2   \n",
       "16793                             ['transparent']                       2   \n",
       "16794                             ['transparent']                       1   \n",
       "16795                             ['transparent']                       3   \n",
       "16796                             ['transparent']                       2   \n",
       "\n",
       "       valence_tags  arousal_tags  dominance_tags  \\\n",
       "0          3.710000      5.833000        5.427250   \n",
       "1          6.555071      5.537214        5.691357   \n",
       "2          2.971389      5.537500        4.726389   \n",
       "3          3.080000      5.870000        5.490000   \n",
       "4          3.807121      5.473939        4.729091   \n",
       "...             ...           ...             ...   \n",
       "16792      6.160000      3.695000        6.130000   \n",
       "16793      6.925000      4.975000        6.190000   \n",
       "16794      5.370000      3.450000        5.330000   \n",
       "16795      6.613333      4.633333        5.773333   \n",
       "16796      6.685000      4.405000        5.625000   \n",
       "\n",
       "                                       mbid  ...  \\\n",
       "0      727a2529-7ee8-4860-aef6-7959884895cb  ...   \n",
       "1      99dd2c8c-e7c1-413e-8ea4-4497a00ffa18  ...   \n",
       "2      49e7b4d2-3772-4301-ba25-3cc46ceb342e  ...   \n",
       "3                                       NaN  ...   \n",
       "4      1a826083-5585-445f-a708-415dc90aa050  ...   \n",
       "...                                     ...  ...   \n",
       "16792                                   NaN  ...   \n",
       "16793                                   NaN  ...   \n",
       "16794  7ea228f9-16d0-474d-8c51-5a1a9810ddde  ...   \n",
       "16795                                   NaN  ...   \n",
       "16796  16c3d394-c4d4-4dc2-bbf1-b2bef3ac861c  ...   \n",
       "\n",
       "                                                   Lyric language word-len  \\\n",
       "0      Saint Anger 'round my neck\\nSaint Anger 'round...       en      362   \n",
       "1      Road runner, road runner\\nGoing hundred mile p...       en      398   \n",
       "2      Come!\\n\\nIf our own lives aren’t directly affe...       en      228   \n",
       "3      Ayy, y'all heard about the good news?\\nY'all s...       en      346   \n",
       "4      I'll never be the same, breaking decency\\nDon'...       en      336   \n",
       "...                                                  ...      ...      ...   \n",
       "16792  You're floating out astray\\nThis cold and life...       en      117   \n",
       "16793  I'm looking at you\\nBut It's only a picture so...       en      160   \n",
       "16794  \\n\\n\\nWhere do I fit in\\nI am waiting here for...       en      449   \n",
       "16795  Wish I were transparent\\nYou could see right t...       en       30   \n",
       "16796  I CAUGHT HER STARING, A PSYCHEDELIC DANCER,\\nG...       en      151   \n",
       "\n",
       "                                                no-punct  \\\n",
       "0      saint anger round my neck\\nsaint anger round m...   \n",
       "1      road runner road runner\\ngoing hundred mile pe...   \n",
       "2      come\\n\\nif our own lives arent directly affect...   \n",
       "3      ayy yall heard about the good news\\nyall sleep...   \n",
       "4      ill never be the same breaking decency\\ndont b...   \n",
       "...                                                  ...   \n",
       "16792  youre floating out astray\\nthis cold and lifel...   \n",
       "16793  im looking at you\\nbut its only a picture so i...   \n",
       "16794  \\n\\n\\nwhere do i fit in\\ni am waiting here for...   \n",
       "16795  wish i were transparent\\nyou could see right t...   \n",
       "16796  i caught her staring a psychedelic dancer\\ngre...   \n",
       "\n",
       "                                             words-split  \\\n",
       "0      [saint, anger, round, my, neck, saint, anger, ...   \n",
       "1      [road, runner, road, runner, going, hundred, m...   \n",
       "2      [come, if, our, own, lives, arent, directly, a...   \n",
       "3      [ayy, yall, heard, about, the, good, news, yal...   \n",
       "4      [ill, never, be, the, same, breaking, decency,...   \n",
       "...                                                  ...   \n",
       "16792  [youre, floating, out, astray, this, cold, and...   \n",
       "16793  [im, looking, at, you, but, its, only, a, pict...   \n",
       "16794  [where, do, i, fit, in, i, am, waiting, here, ...   \n",
       "16795  [wish, i, were, transparent, you, could, see, ...   \n",
       "16796  [i, caught, her, staring, a, psychedelic, danc...   \n",
       "\n",
       "                                                 trimmed  \\\n",
       "0      [saint, anger, round, my, neck, saint, anger, ...   \n",
       "1      [road, runner, road, runner, going, hundred, m...   \n",
       "2      [come, if, our, own, lives, arent, directly, a...   \n",
       "3      [ayy, yall, heard, about, the, good, news, yal...   \n",
       "4      [ill, never, be, the, same, breaking, decency,...   \n",
       "...                                                  ...   \n",
       "16792  [youre, floating, out, astray, this, cold, and...   \n",
       "16793  [im, looking, at, you, but, its, only, a, pict...   \n",
       "16794  [where, do, i, fit, in, i, am, waiting, here, ...   \n",
       "16795  [wish, i, were, transparent, you, could, see, ...   \n",
       "16796  [i, caught, her, staring, a, psychedelic, danc...   \n",
       "\n",
       "                                                  padded valence_norm  \\\n",
       "0      [saint, anger, round, my, neck, saint, anger, ...    -1.170806   \n",
       "1      [road, runner, road, runner, going, hundred, m...     0.668156   \n",
       "2      [come, if, our, own, lives, arent, directly, a...    -1.648221   \n",
       "3      [ayy, yall, heard, about, the, good, news, yal...    -1.578018   \n",
       "4      [ill, never, be, the, same, breaking, decency,...    -1.108030   \n",
       "...                                                  ...          ...   \n",
       "16792  [youre, floating, out, astray, this, cold, and...     0.412794   \n",
       "16793  [im, looking, at, you, but, its, only, a, pict...     0.907265   \n",
       "16794  [where, do, i, fit, in, i, am, waiting, here, ...    -0.097836   \n",
       "16795  [wish, i, were, transparent, you, could, see, ...     0.705814   \n",
       "16796  [i, caught, her, staring, a, psychedelic, danc...     0.752137   \n",
       "\n",
       "      arousal_norm  dominance_norm  \n",
       "0         1.330209        1.330209  \n",
       "1         1.065359        1.065359  \n",
       "2         1.065615        1.065615  \n",
       "3         1.363339        1.363339  \n",
       "4         1.008703        1.008703  \n",
       "...            ...             ...  \n",
       "16792    -0.584176       -0.584176  \n",
       "16793     0.561948        0.561948  \n",
       "16794    -0.803551       -0.803551  \n",
       "16795     0.256016        0.256016  \n",
       "16796     0.051564        0.051564  \n",
       "\n",
       "[16797 rows x 22 columns]"
      ]
     },
     "execution_count": 62,
     "metadata": {},
     "output_type": "execute_result"
    }
   ],
   "source": [
    "data"
   ]
  },
  {
   "cell_type": "code",
   "execution_count": 71,
   "id": "a5004a48-7748-498a-a5b3-635ec38a8e94",
   "metadata": {},
   "outputs": [],
   "source": [
    "test_idx = 87\n",
    "to_pred = enc.transform(data['padded'].iloc[test_idx])\n",
    "to_pred = np.expand_dims(to_pred.toarray(), axis=0)"
   ]
  },
  {
   "cell_type": "code",
   "execution_count": 72,
   "id": "ff805e4b-1ef3-4c5f-8e0f-b25782aabf5a",
   "metadata": {},
   "outputs": [
    {
     "data": {
      "text/plain": [
       "(1, 329, 3001)"
      ]
     },
     "execution_count": 72,
     "metadata": {},
     "output_type": "execute_result"
    }
   ],
   "source": [
    "to_pred.shape"
   ]
  },
  {
   "cell_type": "code",
   "execution_count": 73,
   "id": "a0c21d7e-e2de-4945-a586-825bb3b5eb7c",
   "metadata": {},
   "outputs": [
    {
     "data": {
      "text/plain": [
       "Unnamed: 0                                                              419\n",
       "lastfm_url                https://www.last.fm/music/roadrunner%2bunited/...\n",
       "track                                                            No Way Out\n",
       "artist                                                    Roadrunner United\n",
       "seeds                                                        ['aggressive']\n",
       "number_of_emotion_tags                                                    3\n",
       "valence_tags                                                         5.9425\n",
       "arousal_tags                                                          5.005\n",
       "dominance_tags                                                        5.565\n",
       "mbid                                   8531da14-771b-402c-850e-ad774fe88a69\n",
       "spotify_id                                           3GgLCC953aJ5Ch7Sx7l447\n",
       "genre                                                                 metal\n",
       "Lyric                     I'm going under\\nI'm suffocating\\nDrowning but...\n",
       "language                                                                 en\n",
       "word-len                                                                 69\n",
       "no-punct                  im going under\\nim suffocating\\ndrowning but i...\n",
       "words-split               [im, going, under, im, suffocating, drowning, ...\n",
       "trimmed                   [im, going, under, im, suffocating, drowning, ...\n",
       "padded                    [im, going, under, im, suffocating, drowning, ...\n",
       "valence_norm                                                       0.272209\n",
       "arousal_norm                                                        0.58881\n",
       "dominance_norm                                                      0.58881\n",
       "Name: 87, dtype: object"
      ]
     },
     "execution_count": 73,
     "metadata": {},
     "output_type": "execute_result"
    }
   ],
   "source": [
    "# def normalize_pt(pt: float, arr: np.ndarray) -> float:\n",
    "#     return (pt - arr.mean()) / arr.std()\n",
    "# normalize_pt(data.iloc[test_idx]['dominance_tags'], data['dominance_tags'].to_numpy())\n",
    "data.iloc[test_idx]"
   ]
  },
  {
   "cell_type": "code",
   "execution_count": 74,
   "id": "d21fc3c1-edb3-4536-9883-d03355b2a934",
   "metadata": {},
   "outputs": [
    {
     "name": "stdout",
     "output_type": "stream",
     "text": [
      "1/1 [==============================] - 0s 29ms/step\n"
     ]
    },
    {
     "data": {
      "text/plain": [
       "array([[-0.17407669, -0.27432936, -0.31065035]], dtype=float32)"
      ]
     },
     "execution_count": 74,
     "metadata": {},
     "output_type": "execute_result"
    }
   ],
   "source": [
    "model.predict(to_pred)"
   ]
  },
  {
   "cell_type": "code",
   "execution_count": 51,
   "id": "8d7f7393-1b17-4c1e-a500-0de02db36c9a",
   "metadata": {},
   "outputs": [
    {
     "name": "stdout",
     "output_type": "stream",
     "text": [
      "1/1 [==============================] - 0s 251ms/step\n"
     ]
    }
   ],
   "source": [
    "import matplotlib.pyplot as plt\n",
    "\n",
    "rng = np.random.default_rng()\n",
    "sample = rng.integers(len(data), size=100)\n",
    "\n",
    "to_pred = data['padded'].iloc[sample]\n",
    "to_pred = np.stack([enc.transform(i) for i in to_pred])\n",
    "x = np.stack([i.toarray() for i in to_pred])\n",
    "pred = model.predict(x, batch_size=100)"
   ]
  },
  {
   "cell_type": "code",
   "execution_count": 25,
   "id": "0e8d5c0d-70b0-4973-89d3-dc833058f98b",
   "metadata": {},
   "outputs": [
    {
     "data": {
      "text/plain": [
       "array([[5.6619234, 4.3642144, 4.989434 ],\n",
       "       [5.3521013, 4.118903 , 4.708061 ],\n",
       "       [6.317199 , 4.8758874, 5.5851645],\n",
       "       [5.833919 , 4.4909873, 5.140897 ],\n",
       "       [6.075403 , 4.6745877, 5.3585515],\n",
       "       [6.102633 , 4.701509 , 5.371654 ],\n",
       "       [6.1973014, 4.749609 , 5.468229 ],\n",
       "       [5.7767353, 4.3600326, 5.098663 ],\n",
       "       [5.940997 , 4.562954 , 5.253478 ],\n",
       "       [5.7913156, 4.4743433, 5.099356 ],\n",
       "       [5.7640004, 4.417476 , 5.097956 ],\n",
       "       [6.184348 , 4.76681  , 5.458332 ],\n",
       "       [5.820277 , 4.4531994, 5.122043 ],\n",
       "       [5.7948346, 4.37831  , 5.1080766],\n",
       "       [5.7410817, 4.3412333, 5.0798717],\n",
       "       [5.9262614, 4.5548806, 5.2067676],\n",
       "       [5.7491026, 4.355948 , 5.087667 ],\n",
       "       [6.202467 , 4.7803936, 5.4615827],\n",
       "       [6.1387334, 4.726957 , 5.4051337],\n",
       "       [5.903983 , 4.5124846, 5.2179484],\n",
       "       [5.962016 , 4.606524 , 5.266231 ],\n",
       "       [5.8194976, 4.4121747, 5.145771 ],\n",
       "       [5.7306967, 4.3258376, 5.0701075],\n",
       "       [6.2314754, 4.8020062, 5.504418 ],\n",
       "       [5.784901 , 4.3944144, 5.112263 ],\n",
       "       [6.2546554, 4.8136377, 5.5310645],\n",
       "       [5.5393643, 4.2468147, 4.881968 ],\n",
       "       [5.8353133, 4.444224 , 5.1608043],\n",
       "       [5.824221 , 4.398584 , 5.139129 ],\n",
       "       [5.8658643, 4.515224 , 5.190807 ],\n",
       "       [6.2119975, 4.7807527, 5.48017  ],\n",
       "       [6.245885 , 4.812108 , 5.5071516],\n",
       "       [5.926762 , 4.551391 , 5.2450385],\n",
       "       [5.936428 , 4.555259 , 5.2494855],\n",
       "       [5.7129025, 4.3173475, 5.040373 ],\n",
       "       [5.914865 , 4.554984 , 5.2212114],\n",
       "       [5.6260524, 4.3118525, 4.9665313],\n",
       "       [5.9103646, 4.502357 , 5.2275953],\n",
       "       [5.8610597, 4.4307446, 5.1707654],\n",
       "       [5.897354 , 4.5228114, 5.2180324],\n",
       "       [6.1054053, 4.6982603, 5.3854747],\n",
       "       [6.1247687, 4.7114367, 5.407033 ],\n",
       "       [5.7677155, 4.4319224, 5.0884137],\n",
       "       [5.9810214, 4.6171327, 5.275476 ],\n",
       "       [5.571375 , 4.293229 , 4.912831 ],\n",
       "       [5.882938 , 4.5193214, 5.198658 ],\n",
       "       [5.708955 , 4.3805285, 5.0406666],\n",
       "       [5.9016094, 4.4604564, 5.2097855],\n",
       "       [5.732124 , 4.3780637, 5.0604978],\n",
       "       [5.9172797, 4.527368 , 5.2417073],\n",
       "       [5.7390037, 4.3465157, 5.0760703],\n",
       "       [6.1721134, 4.751183 , 5.4531837],\n",
       "       [5.65594  , 4.3027997, 4.9858236],\n",
       "       [5.792031 , 4.3791203, 5.114884 ],\n",
       "       [5.8251624, 4.408089 , 5.1483393],\n",
       "       [5.890021 , 4.5430627, 5.1996703],\n",
       "       [5.8737273, 4.5123672, 5.183454 ],\n",
       "       [5.7624135, 4.4426703, 5.0833745],\n",
       "       [5.622737 , 4.279435 , 4.950682 ],\n",
       "       [5.649274 , 4.35007  , 4.997683 ],\n",
       "       [5.8262563, 4.4132624, 5.152247 ],\n",
       "       [6.3309436, 4.864996 , 5.5729585],\n",
       "       [5.97898  , 4.538428 , 5.281474 ],\n",
       "       [5.9111133, 4.493614 , 5.2287054],\n",
       "       [5.889006 , 4.498557 , 5.227526 ],\n",
       "       [6.0275764, 4.6480093, 5.331624 ],\n",
       "       [5.774585 , 4.369589 , 5.10934  ],\n",
       "       [5.906094 , 4.5199122, 5.205645 ],\n",
       "       [5.9172416, 4.547847 , 5.214502 ],\n",
       "       [5.81658  , 4.4359   , 5.1233134],\n",
       "       [5.736799 , 4.335181 , 5.069428 ],\n",
       "       [6.1857524, 4.752204 , 5.440367 ],\n",
       "       [5.989861 , 4.596986 , 5.2907853],\n",
       "       [5.9401546, 4.50384  , 5.2523   ],\n",
       "       [5.825153 , 4.458861 , 5.1371627],\n",
       "       [6.1135483, 4.7113023, 5.386174 ],\n",
       "       [5.8886437, 4.5351877, 5.194444 ],\n",
       "       [5.824735 , 4.43637  , 5.1585193],\n",
       "       [5.8198566, 4.403193 , 5.1442704],\n",
       "       [5.9895215, 4.6176796, 5.29287  ],\n",
       "       [5.6170187, 4.2833304, 4.97024  ],\n",
       "       [5.5755153, 4.292418 , 4.912992 ],\n",
       "       [5.7614727, 4.362084 , 5.0934935],\n",
       "       [6.0538445, 4.6321416, 5.3162484],\n",
       "       [5.7822948, 4.4414296, 5.093723 ],\n",
       "       [5.963428 , 4.5820847, 5.284305 ],\n",
       "       [5.975763 , 4.5965524, 5.2715497],\n",
       "       [6.1426415, 4.740688 , 5.441253 ],\n",
       "       [5.7994533, 4.4104967, 5.140202 ],\n",
       "       [5.6952868, 4.307432 , 5.0221767],\n",
       "       [5.843473 , 4.466738 , 5.15519  ],\n",
       "       [5.8001037, 4.401563 , 5.1276593],\n",
       "       [5.780714 , 4.3867846, 5.1191864],\n",
       "       [5.79508  , 4.3863215, 5.1187024],\n",
       "       [5.968483 , 4.552273 , 5.2895756],\n",
       "       [6.018502 , 4.5872297, 5.3246694],\n",
       "       [5.848013 , 4.4293003, 5.169955 ],\n",
       "       [5.869408 , 4.487177 , 5.186581 ],\n",
       "       [5.811244 , 4.4112473, 5.1401305],\n",
       "       [5.990623 , 4.582742 , 5.2873   ]], dtype=float32)"
      ]
     },
     "execution_count": 25,
     "metadata": {},
     "output_type": "execute_result"
    }
   ],
   "source": [
    "pred"
   ]
  },
  {
   "cell_type": "code",
   "execution_count": 28,
   "id": "91d858d7-eaa5-4df2-b0b0-281d04751314",
   "metadata": {},
   "outputs": [
    {
     "data": {
      "text/plain": [
       "-0.03540140450904894"
      ]
     },
     "execution_count": 28,
     "metadata": {},
     "output_type": "execute_result"
    }
   ],
   "source": [
    "from sklearn.metrics import r2_score\n",
    "valence_lbls = data['arousal_tags'].iloc[sample].to_numpy()\n",
    "r2_score(valence_lbls, pred[:, 1])"
   ]
  },
  {
   "cell_type": "code",
   "execution_count": 86,
   "id": "40f4b351-3cd7-4a2f-8184-dbfe6f1a6c3f",
   "metadata": {},
   "outputs": [
    {
     "data": {
      "text/plain": [
       "Text(0.5, 1.0, 'Valence Prediction Performance')"
      ]
     },
     "execution_count": 86,
     "metadata": {},
     "output_type": "execute_result"
    },
    {
     "data": {
      "image/png": "[encoded data removed]",
      "text/plain": [
       "<Figure size 640x480 with 1 Axes>"
      ]
     },
     "metadata": {},
     "output_type": "display_data"
    }
   ],
   "source": [
    "valence_true = data['valence_tags'].iloc[sample]\n",
    "valence_pred = pred[:, 0]\n",
    "plt.scatter(valence_pred, valence_true)\n",
    "plt.xlabel('Predicted Valence')\n",
    "plt.ylabel('True Valence')\n",
    "plt.title('Valence Prediction Performance')"
   ]
  },
  {
   "cell_type": "code",
   "execution_count": 88,
   "id": "54d36f95-6a1e-480f-88e7-a8c1c95283df",
   "metadata": {},
   "outputs": [
    {
     "data": {
      "text/plain": [
       "Text(0.5, 1.0, 'Arousal Prediction Performance')"
      ]
     },
     "execution_count": 88,
     "metadata": {},
     "output_type": "execute_result"
    },
    {
     "data": {
      "image/png": "[encoded data removed]",
      "text/plain": [
       "<Figure size 640x480 with 1 Axes>"
      ]
     },
     "metadata": {},
     "output_type": "display_data"
    }
   ],
   "source": [
    "arousal_true = data['arousal_tags'].iloc[sample]\n",
    "arousal_pred = pred[:, 1]\n",
    "plt.scatter(arousal_pred, arousal_true)\n",
    "plt.xlabel('Predicted Arousal')\n",
    "plt.ylabel('True Arousal')\n",
    "plt.title('Arousal Prediction Performance')"
   ]
  },
  {
   "cell_type": "code",
   "execution_count": 89,
   "id": "8b509093-3ead-44a9-b034-82083f2eb644",
   "metadata": {},
   "outputs": [
    {
     "data": {
      "text/plain": [
       "Text(0.5, 1.0, 'Dominance Prediction Performance')"
      ]
     },
     "execution_count": 89,
     "metadata": {},
     "output_type": "execute_result"
    },
    {
     "data": {
      "image/png": "[encoded data removed]",
      "text/plain": [
       "<Figure size 640x480 with 1 Axes>"
      ]
     },
     "metadata": {},
     "output_type": "display_data"
    }
   ],
   "source": [
    "dominance_true = data['dominance_tags'].iloc[sample]\n",
    "dominance_pred = pred[:, 2]\n",
    "plt.scatter(dominance_pred, dominance_true)\n",
    "plt.xlabel('Predicted Dominance')\n",
    "plt.ylabel('True Dominance')\n",
    "plt.title('Dominance Prediction Performance')"
   ]
  },
  {
   "cell_type": "code",
   "execution_count": null,
   "id": "a2ad65d9-ff2e-4ed6-83f6-b56777d653d1",
   "metadata": {},
   "outputs": [],
   "source": []
  }
 ],
 "metadata": {
  "kernelspec": {
   "display_name": "Python 3 (ipykernel)",
   "language": "python",
   "name": "python3"
  },
  "language_info": {
   "codemirror_mode": {
    "name": "ipython",
    "version": 3
   },
   "file_extension": ".py",
   "mimetype": "text/x-python",
   "name": "python",
   "nbconvert_exporter": "python",
   "pygments_lexer": "ipython3",
   "version": "3.10.6"
  }
 },
 "nbformat": 4,
 "nbformat_minor": 5
}
